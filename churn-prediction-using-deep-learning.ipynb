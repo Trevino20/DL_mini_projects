{
 "cells": [
  {
   "cell_type": "code",
   "execution_count": 1,
   "id": "c3ee4b2c",
   "metadata": {
    "execution": {
     "iopub.execute_input": "2023-10-03T18:40:10.591317Z",
     "iopub.status.busy": "2023-10-03T18:40:10.590589Z",
     "iopub.status.idle": "2023-10-03T18:40:11.018256Z",
     "shell.execute_reply": "2023-10-03T18:40:11.016747Z"
    },
    "papermill": {
     "duration": 0.440915,
     "end_time": "2023-10-03T18:40:11.020860",
     "exception": false,
     "start_time": "2023-10-03T18:40:10.579945",
     "status": "completed"
    },
    "tags": []
   },
   "outputs": [],
   "source": [
    "import pandas as pd"
   ]
  },
  {
   "cell_type": "code",
   "execution_count": 2,
   "id": "29efbe6f",
   "metadata": {
    "execution": {
     "iopub.execute_input": "2023-10-03T18:40:11.039169Z",
     "iopub.status.busy": "2023-10-03T18:40:11.038575Z",
     "iopub.status.idle": "2023-10-03T18:40:11.095564Z",
     "shell.execute_reply": "2023-10-03T18:40:11.094707Z"
    },
    "papermill": {
     "duration": 0.068606,
     "end_time": "2023-10-03T18:40:11.097831",
     "exception": false,
     "start_time": "2023-10-03T18:40:11.029225",
     "status": "completed"
    },
    "tags": []
   },
   "outputs": [],
   "source": [
    "df = pd.read_csv(\"/kaggle/input/credit-card-customer-churn-prediction/Churn_Modelling.csv\")"
   ]
  },
  {
   "cell_type": "code",
   "execution_count": 3,
   "id": "e95f74e2",
   "metadata": {
    "execution": {
     "iopub.execute_input": "2023-10-03T18:40:11.118553Z",
     "iopub.status.busy": "2023-10-03T18:40:11.118142Z",
     "iopub.status.idle": "2023-10-03T18:40:11.155704Z",
     "shell.execute_reply": "2023-10-03T18:40:11.154947Z"
    },
    "papermill": {
     "duration": 0.049032,
     "end_time": "2023-10-03T18:40:11.157611",
     "exception": false,
     "start_time": "2023-10-03T18:40:11.108579",
     "status": "completed"
    },
    "tags": []
   },
   "outputs": [
    {
     "data": {
      "text/html": [
       "<div>\n",
       "<style scoped>\n",
       "    .dataframe tbody tr th:only-of-type {\n",
       "        vertical-align: middle;\n",
       "    }\n",
       "\n",
       "    .dataframe tbody tr th {\n",
       "        vertical-align: top;\n",
       "    }\n",
       "\n",
       "    .dataframe thead th {\n",
       "        text-align: right;\n",
       "    }\n",
       "</style>\n",
       "<table border=\"1\" class=\"dataframe\">\n",
       "  <thead>\n",
       "    <tr style=\"text-align: right;\">\n",
       "      <th></th>\n",
       "      <th>RowNumber</th>\n",
       "      <th>CustomerId</th>\n",
       "      <th>Surname</th>\n",
       "      <th>CreditScore</th>\n",
       "      <th>Geography</th>\n",
       "      <th>Gender</th>\n",
       "      <th>Age</th>\n",
       "      <th>Tenure</th>\n",
       "      <th>Balance</th>\n",
       "      <th>NumOfProducts</th>\n",
       "      <th>HasCrCard</th>\n",
       "      <th>IsActiveMember</th>\n",
       "      <th>EstimatedSalary</th>\n",
       "      <th>Exited</th>\n",
       "    </tr>\n",
       "  </thead>\n",
       "  <tbody>\n",
       "    <tr>\n",
       "      <th>0</th>\n",
       "      <td>1</td>\n",
       "      <td>15634602</td>\n",
       "      <td>Hargrave</td>\n",
       "      <td>619</td>\n",
       "      <td>France</td>\n",
       "      <td>Female</td>\n",
       "      <td>42</td>\n",
       "      <td>2</td>\n",
       "      <td>0.00</td>\n",
       "      <td>1</td>\n",
       "      <td>1</td>\n",
       "      <td>1</td>\n",
       "      <td>101348.88</td>\n",
       "      <td>1</td>\n",
       "    </tr>\n",
       "    <tr>\n",
       "      <th>1</th>\n",
       "      <td>2</td>\n",
       "      <td>15647311</td>\n",
       "      <td>Hill</td>\n",
       "      <td>608</td>\n",
       "      <td>Spain</td>\n",
       "      <td>Female</td>\n",
       "      <td>41</td>\n",
       "      <td>1</td>\n",
       "      <td>83807.86</td>\n",
       "      <td>1</td>\n",
       "      <td>0</td>\n",
       "      <td>1</td>\n",
       "      <td>112542.58</td>\n",
       "      <td>0</td>\n",
       "    </tr>\n",
       "    <tr>\n",
       "      <th>2</th>\n",
       "      <td>3</td>\n",
       "      <td>15619304</td>\n",
       "      <td>Onio</td>\n",
       "      <td>502</td>\n",
       "      <td>France</td>\n",
       "      <td>Female</td>\n",
       "      <td>42</td>\n",
       "      <td>8</td>\n",
       "      <td>159660.80</td>\n",
       "      <td>3</td>\n",
       "      <td>1</td>\n",
       "      <td>0</td>\n",
       "      <td>113931.57</td>\n",
       "      <td>1</td>\n",
       "    </tr>\n",
       "    <tr>\n",
       "      <th>3</th>\n",
       "      <td>4</td>\n",
       "      <td>15701354</td>\n",
       "      <td>Boni</td>\n",
       "      <td>699</td>\n",
       "      <td>France</td>\n",
       "      <td>Female</td>\n",
       "      <td>39</td>\n",
       "      <td>1</td>\n",
       "      <td>0.00</td>\n",
       "      <td>2</td>\n",
       "      <td>0</td>\n",
       "      <td>0</td>\n",
       "      <td>93826.63</td>\n",
       "      <td>0</td>\n",
       "    </tr>\n",
       "    <tr>\n",
       "      <th>4</th>\n",
       "      <td>5</td>\n",
       "      <td>15737888</td>\n",
       "      <td>Mitchell</td>\n",
       "      <td>850</td>\n",
       "      <td>Spain</td>\n",
       "      <td>Female</td>\n",
       "      <td>43</td>\n",
       "      <td>2</td>\n",
       "      <td>125510.82</td>\n",
       "      <td>1</td>\n",
       "      <td>1</td>\n",
       "      <td>1</td>\n",
       "      <td>79084.10</td>\n",
       "      <td>0</td>\n",
       "    </tr>\n",
       "    <tr>\n",
       "      <th>...</th>\n",
       "      <td>...</td>\n",
       "      <td>...</td>\n",
       "      <td>...</td>\n",
       "      <td>...</td>\n",
       "      <td>...</td>\n",
       "      <td>...</td>\n",
       "      <td>...</td>\n",
       "      <td>...</td>\n",
       "      <td>...</td>\n",
       "      <td>...</td>\n",
       "      <td>...</td>\n",
       "      <td>...</td>\n",
       "      <td>...</td>\n",
       "      <td>...</td>\n",
       "    </tr>\n",
       "    <tr>\n",
       "      <th>9995</th>\n",
       "      <td>9996</td>\n",
       "      <td>15606229</td>\n",
       "      <td>Obijiaku</td>\n",
       "      <td>771</td>\n",
       "      <td>France</td>\n",
       "      <td>Male</td>\n",
       "      <td>39</td>\n",
       "      <td>5</td>\n",
       "      <td>0.00</td>\n",
       "      <td>2</td>\n",
       "      <td>1</td>\n",
       "      <td>0</td>\n",
       "      <td>96270.64</td>\n",
       "      <td>0</td>\n",
       "    </tr>\n",
       "    <tr>\n",
       "      <th>9996</th>\n",
       "      <td>9997</td>\n",
       "      <td>15569892</td>\n",
       "      <td>Johnstone</td>\n",
       "      <td>516</td>\n",
       "      <td>France</td>\n",
       "      <td>Male</td>\n",
       "      <td>35</td>\n",
       "      <td>10</td>\n",
       "      <td>57369.61</td>\n",
       "      <td>1</td>\n",
       "      <td>1</td>\n",
       "      <td>1</td>\n",
       "      <td>101699.77</td>\n",
       "      <td>0</td>\n",
       "    </tr>\n",
       "    <tr>\n",
       "      <th>9997</th>\n",
       "      <td>9998</td>\n",
       "      <td>15584532</td>\n",
       "      <td>Liu</td>\n",
       "      <td>709</td>\n",
       "      <td>France</td>\n",
       "      <td>Female</td>\n",
       "      <td>36</td>\n",
       "      <td>7</td>\n",
       "      <td>0.00</td>\n",
       "      <td>1</td>\n",
       "      <td>0</td>\n",
       "      <td>1</td>\n",
       "      <td>42085.58</td>\n",
       "      <td>1</td>\n",
       "    </tr>\n",
       "    <tr>\n",
       "      <th>9998</th>\n",
       "      <td>9999</td>\n",
       "      <td>15682355</td>\n",
       "      <td>Sabbatini</td>\n",
       "      <td>772</td>\n",
       "      <td>Germany</td>\n",
       "      <td>Male</td>\n",
       "      <td>42</td>\n",
       "      <td>3</td>\n",
       "      <td>75075.31</td>\n",
       "      <td>2</td>\n",
       "      <td>1</td>\n",
       "      <td>0</td>\n",
       "      <td>92888.52</td>\n",
       "      <td>1</td>\n",
       "    </tr>\n",
       "    <tr>\n",
       "      <th>9999</th>\n",
       "      <td>10000</td>\n",
       "      <td>15628319</td>\n",
       "      <td>Walker</td>\n",
       "      <td>792</td>\n",
       "      <td>France</td>\n",
       "      <td>Female</td>\n",
       "      <td>28</td>\n",
       "      <td>4</td>\n",
       "      <td>130142.79</td>\n",
       "      <td>1</td>\n",
       "      <td>1</td>\n",
       "      <td>0</td>\n",
       "      <td>38190.78</td>\n",
       "      <td>0</td>\n",
       "    </tr>\n",
       "  </tbody>\n",
       "</table>\n",
       "<p>10000 rows × 14 columns</p>\n",
       "</div>"
      ],
      "text/plain": [
       "      RowNumber  CustomerId    Surname  CreditScore Geography  Gender  Age  \\\n",
       "0             1    15634602   Hargrave          619    France  Female   42   \n",
       "1             2    15647311       Hill          608     Spain  Female   41   \n",
       "2             3    15619304       Onio          502    France  Female   42   \n",
       "3             4    15701354       Boni          699    France  Female   39   \n",
       "4             5    15737888   Mitchell          850     Spain  Female   43   \n",
       "...         ...         ...        ...          ...       ...     ...  ...   \n",
       "9995       9996    15606229   Obijiaku          771    France    Male   39   \n",
       "9996       9997    15569892  Johnstone          516    France    Male   35   \n",
       "9997       9998    15584532        Liu          709    France  Female   36   \n",
       "9998       9999    15682355  Sabbatini          772   Germany    Male   42   \n",
       "9999      10000    15628319     Walker          792    France  Female   28   \n",
       "\n",
       "      Tenure    Balance  NumOfProducts  HasCrCard  IsActiveMember  \\\n",
       "0          2       0.00              1          1               1   \n",
       "1          1   83807.86              1          0               1   \n",
       "2          8  159660.80              3          1               0   \n",
       "3          1       0.00              2          0               0   \n",
       "4          2  125510.82              1          1               1   \n",
       "...      ...        ...            ...        ...             ...   \n",
       "9995       5       0.00              2          1               0   \n",
       "9996      10   57369.61              1          1               1   \n",
       "9997       7       0.00              1          0               1   \n",
       "9998       3   75075.31              2          1               0   \n",
       "9999       4  130142.79              1          1               0   \n",
       "\n",
       "      EstimatedSalary  Exited  \n",
       "0           101348.88       1  \n",
       "1           112542.58       0  \n",
       "2           113931.57       1  \n",
       "3            93826.63       0  \n",
       "4            79084.10       0  \n",
       "...               ...     ...  \n",
       "9995         96270.64       0  \n",
       "9996        101699.77       0  \n",
       "9997         42085.58       1  \n",
       "9998         92888.52       1  \n",
       "9999         38190.78       0  \n",
       "\n",
       "[10000 rows x 14 columns]"
      ]
     },
     "execution_count": 3,
     "metadata": {},
     "output_type": "execute_result"
    }
   ],
   "source": [
    "df"
   ]
  },
  {
   "cell_type": "code",
   "execution_count": 4,
   "id": "07152098",
   "metadata": {
    "execution": {
     "iopub.execute_input": "2023-10-03T18:40:11.176906Z",
     "iopub.status.busy": "2023-10-03T18:40:11.176249Z",
     "iopub.status.idle": "2023-10-03T18:40:11.181929Z",
     "shell.execute_reply": "2023-10-03T18:40:11.181279Z"
    },
    "papermill": {
     "duration": 0.017709,
     "end_time": "2023-10-03T18:40:11.183654",
     "exception": false,
     "start_time": "2023-10-03T18:40:11.165945",
     "status": "completed"
    },
    "tags": []
   },
   "outputs": [
    {
     "data": {
      "text/plain": [
       "Index(['RowNumber', 'CustomerId', 'Surname', 'CreditScore', 'Geography',\n",
       "       'Gender', 'Age', 'Tenure', 'Balance', 'NumOfProducts', 'HasCrCard',\n",
       "       'IsActiveMember', 'EstimatedSalary', 'Exited'],\n",
       "      dtype='object')"
      ]
     },
     "execution_count": 4,
     "metadata": {},
     "output_type": "execute_result"
    }
   ],
   "source": [
    "df.columns"
   ]
  },
  {
   "cell_type": "code",
   "execution_count": 5,
   "id": "8a2daea1",
   "metadata": {
    "execution": {
     "iopub.execute_input": "2023-10-03T18:40:11.203038Z",
     "iopub.status.busy": "2023-10-03T18:40:11.202355Z",
     "iopub.status.idle": "2023-10-03T18:40:11.211735Z",
     "shell.execute_reply": "2023-10-03T18:40:11.210645Z"
    },
    "papermill": {
     "duration": 0.021489,
     "end_time": "2023-10-03T18:40:11.213794",
     "exception": false,
     "start_time": "2023-10-03T18:40:11.192305",
     "status": "completed"
    },
    "tags": []
   },
   "outputs": [
    {
     "data": {
      "text/plain": [
       "RowNumber          0\n",
       "CustomerId         0\n",
       "Surname            0\n",
       "CreditScore        0\n",
       "Geography          0\n",
       "Gender             0\n",
       "Age                0\n",
       "Tenure             0\n",
       "Balance            0\n",
       "NumOfProducts      0\n",
       "HasCrCard          0\n",
       "IsActiveMember     0\n",
       "EstimatedSalary    0\n",
       "Exited             0\n",
       "dtype: int64"
      ]
     },
     "execution_count": 5,
     "metadata": {},
     "output_type": "execute_result"
    }
   ],
   "source": [
    "df.isna().sum()"
   ]
  },
  {
   "cell_type": "code",
   "execution_count": 6,
   "id": "17a8e44a",
   "metadata": {
    "execution": {
     "iopub.execute_input": "2023-10-03T18:40:11.233625Z",
     "iopub.status.busy": "2023-10-03T18:40:11.232718Z",
     "iopub.status.idle": "2023-10-03T18:40:11.260961Z",
     "shell.execute_reply": "2023-10-03T18:40:11.259400Z"
    },
    "papermill": {
     "duration": 0.040994,
     "end_time": "2023-10-03T18:40:11.263665",
     "exception": false,
     "start_time": "2023-10-03T18:40:11.222671",
     "status": "completed"
    },
    "tags": []
   },
   "outputs": [
    {
     "name": "stdout",
     "output_type": "stream",
     "text": [
      "<class 'pandas.core.frame.DataFrame'>\n",
      "RangeIndex: 10000 entries, 0 to 9999\n",
      "Data columns (total 14 columns):\n",
      " #   Column           Non-Null Count  Dtype  \n",
      "---  ------           --------------  -----  \n",
      " 0   RowNumber        10000 non-null  int64  \n",
      " 1   CustomerId       10000 non-null  int64  \n",
      " 2   Surname          10000 non-null  object \n",
      " 3   CreditScore      10000 non-null  int64  \n",
      " 4   Geography        10000 non-null  object \n",
      " 5   Gender           10000 non-null  object \n",
      " 6   Age              10000 non-null  int64  \n",
      " 7   Tenure           10000 non-null  int64  \n",
      " 8   Balance          10000 non-null  float64\n",
      " 9   NumOfProducts    10000 non-null  int64  \n",
      " 10  HasCrCard        10000 non-null  int64  \n",
      " 11  IsActiveMember   10000 non-null  int64  \n",
      " 12  EstimatedSalary  10000 non-null  float64\n",
      " 13  Exited           10000 non-null  int64  \n",
      "dtypes: float64(2), int64(9), object(3)\n",
      "memory usage: 1.1+ MB\n"
     ]
    }
   ],
   "source": [
    "df.info()"
   ]
  },
  {
   "cell_type": "code",
   "execution_count": 7,
   "id": "711a2a2f",
   "metadata": {
    "execution": {
     "iopub.execute_input": "2023-10-03T18:40:11.283549Z",
     "iopub.status.busy": "2023-10-03T18:40:11.283099Z",
     "iopub.status.idle": "2023-10-03T18:40:11.301231Z",
     "shell.execute_reply": "2023-10-03T18:40:11.300141Z"
    },
    "papermill": {
     "duration": 0.030837,
     "end_time": "2023-10-03T18:40:11.303485",
     "exception": false,
     "start_time": "2023-10-03T18:40:11.272648",
     "status": "completed"
    },
    "tags": []
   },
   "outputs": [
    {
     "data": {
      "text/plain": [
       "0"
      ]
     },
     "execution_count": 7,
     "metadata": {},
     "output_type": "execute_result"
    }
   ],
   "source": [
    "df.duplicated().sum()"
   ]
  },
  {
   "cell_type": "code",
   "execution_count": 8,
   "id": "1dec1f64",
   "metadata": {
    "execution": {
     "iopub.execute_input": "2023-10-03T18:40:11.323770Z",
     "iopub.status.busy": "2023-10-03T18:40:11.322485Z",
     "iopub.status.idle": "2023-10-03T18:40:11.331461Z",
     "shell.execute_reply": "2023-10-03T18:40:11.330412Z"
    },
    "papermill": {
     "duration": 0.021227,
     "end_time": "2023-10-03T18:40:11.333530",
     "exception": false,
     "start_time": "2023-10-03T18:40:11.312303",
     "status": "completed"
    },
    "tags": []
   },
   "outputs": [
    {
     "data": {
      "text/plain": [
       "Exited\n",
       "0    7963\n",
       "1    2037\n",
       "Name: count, dtype: int64"
      ]
     },
     "execution_count": 8,
     "metadata": {},
     "output_type": "execute_result"
    }
   ],
   "source": [
    "df['Exited'].value_counts()"
   ]
  },
  {
   "cell_type": "code",
   "execution_count": 9,
   "id": "9af93170",
   "metadata": {
    "execution": {
     "iopub.execute_input": "2023-10-03T18:40:11.352867Z",
     "iopub.status.busy": "2023-10-03T18:40:11.352523Z",
     "iopub.status.idle": "2023-10-03T18:40:11.360290Z",
     "shell.execute_reply": "2023-10-03T18:40:11.359576Z"
    },
    "papermill": {
     "duration": 0.019459,
     "end_time": "2023-10-03T18:40:11.362020",
     "exception": false,
     "start_time": "2023-10-03T18:40:11.342561",
     "status": "completed"
    },
    "tags": []
   },
   "outputs": [
    {
     "data": {
      "text/plain": [
       "Geography\n",
       "France     5014\n",
       "Germany    2509\n",
       "Spain      2477\n",
       "Name: count, dtype: int64"
      ]
     },
     "execution_count": 9,
     "metadata": {},
     "output_type": "execute_result"
    }
   ],
   "source": [
    "df['Geography'].value_counts()"
   ]
  },
  {
   "cell_type": "code",
   "execution_count": 10,
   "id": "409089b8",
   "metadata": {
    "execution": {
     "iopub.execute_input": "2023-10-03T18:40:11.382388Z",
     "iopub.status.busy": "2023-10-03T18:40:11.381708Z",
     "iopub.status.idle": "2023-10-03T18:40:11.389921Z",
     "shell.execute_reply": "2023-10-03T18:40:11.388861Z"
    },
    "papermill": {
     "duration": 0.021005,
     "end_time": "2023-10-03T18:40:11.392067",
     "exception": false,
     "start_time": "2023-10-03T18:40:11.371062",
     "status": "completed"
    },
    "tags": []
   },
   "outputs": [
    {
     "data": {
      "text/plain": [
       "Gender\n",
       "Male      5457\n",
       "Female    4543\n",
       "Name: count, dtype: int64"
      ]
     },
     "execution_count": 10,
     "metadata": {},
     "output_type": "execute_result"
    }
   ],
   "source": [
    "df['Gender'].value_counts()"
   ]
  },
  {
   "cell_type": "code",
   "execution_count": 11,
   "id": "f649c322",
   "metadata": {
    "execution": {
     "iopub.execute_input": "2023-10-03T18:40:11.412401Z",
     "iopub.status.busy": "2023-10-03T18:40:11.411729Z",
     "iopub.status.idle": "2023-10-03T18:40:11.417898Z",
     "shell.execute_reply": "2023-10-03T18:40:11.417078Z"
    },
    "papermill": {
     "duration": 0.018631,
     "end_time": "2023-10-03T18:40:11.419879",
     "exception": false,
     "start_time": "2023-10-03T18:40:11.401248",
     "status": "completed"
    },
    "tags": []
   },
   "outputs": [],
   "source": [
    "df.drop(columns=['RowNumber','Surname',\"CustomerId\"],inplace=True)"
   ]
  },
  {
   "cell_type": "code",
   "execution_count": 12,
   "id": "0c82ab96",
   "metadata": {
    "execution": {
     "iopub.execute_input": "2023-10-03T18:40:11.439714Z",
     "iopub.status.busy": "2023-10-03T18:40:11.439305Z",
     "iopub.status.idle": "2023-10-03T18:40:11.451972Z",
     "shell.execute_reply": "2023-10-03T18:40:11.451322Z"
    },
    "papermill": {
     "duration": 0.024957,
     "end_time": "2023-10-03T18:40:11.453928",
     "exception": false,
     "start_time": "2023-10-03T18:40:11.428971",
     "status": "completed"
    },
    "tags": []
   },
   "outputs": [
    {
     "data": {
      "text/html": [
       "<div>\n",
       "<style scoped>\n",
       "    .dataframe tbody tr th:only-of-type {\n",
       "        vertical-align: middle;\n",
       "    }\n",
       "\n",
       "    .dataframe tbody tr th {\n",
       "        vertical-align: top;\n",
       "    }\n",
       "\n",
       "    .dataframe thead th {\n",
       "        text-align: right;\n",
       "    }\n",
       "</style>\n",
       "<table border=\"1\" class=\"dataframe\">\n",
       "  <thead>\n",
       "    <tr style=\"text-align: right;\">\n",
       "      <th></th>\n",
       "      <th>CreditScore</th>\n",
       "      <th>Geography</th>\n",
       "      <th>Gender</th>\n",
       "      <th>Age</th>\n",
       "      <th>Tenure</th>\n",
       "      <th>Balance</th>\n",
       "      <th>NumOfProducts</th>\n",
       "      <th>HasCrCard</th>\n",
       "      <th>IsActiveMember</th>\n",
       "      <th>EstimatedSalary</th>\n",
       "      <th>Exited</th>\n",
       "    </tr>\n",
       "  </thead>\n",
       "  <tbody>\n",
       "    <tr>\n",
       "      <th>0</th>\n",
       "      <td>619</td>\n",
       "      <td>France</td>\n",
       "      <td>Female</td>\n",
       "      <td>42</td>\n",
       "      <td>2</td>\n",
       "      <td>0.00</td>\n",
       "      <td>1</td>\n",
       "      <td>1</td>\n",
       "      <td>1</td>\n",
       "      <td>101348.88</td>\n",
       "      <td>1</td>\n",
       "    </tr>\n",
       "    <tr>\n",
       "      <th>1</th>\n",
       "      <td>608</td>\n",
       "      <td>Spain</td>\n",
       "      <td>Female</td>\n",
       "      <td>41</td>\n",
       "      <td>1</td>\n",
       "      <td>83807.86</td>\n",
       "      <td>1</td>\n",
       "      <td>0</td>\n",
       "      <td>1</td>\n",
       "      <td>112542.58</td>\n",
       "      <td>0</td>\n",
       "    </tr>\n",
       "    <tr>\n",
       "      <th>2</th>\n",
       "      <td>502</td>\n",
       "      <td>France</td>\n",
       "      <td>Female</td>\n",
       "      <td>42</td>\n",
       "      <td>8</td>\n",
       "      <td>159660.80</td>\n",
       "      <td>3</td>\n",
       "      <td>1</td>\n",
       "      <td>0</td>\n",
       "      <td>113931.57</td>\n",
       "      <td>1</td>\n",
       "    </tr>\n",
       "    <tr>\n",
       "      <th>3</th>\n",
       "      <td>699</td>\n",
       "      <td>France</td>\n",
       "      <td>Female</td>\n",
       "      <td>39</td>\n",
       "      <td>1</td>\n",
       "      <td>0.00</td>\n",
       "      <td>2</td>\n",
       "      <td>0</td>\n",
       "      <td>0</td>\n",
       "      <td>93826.63</td>\n",
       "      <td>0</td>\n",
       "    </tr>\n",
       "    <tr>\n",
       "      <th>4</th>\n",
       "      <td>850</td>\n",
       "      <td>Spain</td>\n",
       "      <td>Female</td>\n",
       "      <td>43</td>\n",
       "      <td>2</td>\n",
       "      <td>125510.82</td>\n",
       "      <td>1</td>\n",
       "      <td>1</td>\n",
       "      <td>1</td>\n",
       "      <td>79084.10</td>\n",
       "      <td>0</td>\n",
       "    </tr>\n",
       "  </tbody>\n",
       "</table>\n",
       "</div>"
      ],
      "text/plain": [
       "   CreditScore Geography  Gender  Age  Tenure    Balance  NumOfProducts  \\\n",
       "0          619    France  Female   42       2       0.00              1   \n",
       "1          608     Spain  Female   41       1   83807.86              1   \n",
       "2          502    France  Female   42       8  159660.80              3   \n",
       "3          699    France  Female   39       1       0.00              2   \n",
       "4          850     Spain  Female   43       2  125510.82              1   \n",
       "\n",
       "   HasCrCard  IsActiveMember  EstimatedSalary  Exited  \n",
       "0          1               1        101348.88       1  \n",
       "1          0               1        112542.58       0  \n",
       "2          1               0        113931.57       1  \n",
       "3          0               0         93826.63       0  \n",
       "4          1               1         79084.10       0  "
      ]
     },
     "execution_count": 12,
     "metadata": {},
     "output_type": "execute_result"
    }
   ],
   "source": [
    "df.head()"
   ]
  },
  {
   "cell_type": "code",
   "execution_count": 13,
   "id": "82edd52e",
   "metadata": {
    "execution": {
     "iopub.execute_input": "2023-10-03T18:40:11.544092Z",
     "iopub.status.busy": "2023-10-03T18:40:11.542970Z",
     "iopub.status.idle": "2023-10-03T18:40:11.556093Z",
     "shell.execute_reply": "2023-10-03T18:40:11.555349Z"
    },
    "papermill": {
     "duration": 0.026021,
     "end_time": "2023-10-03T18:40:11.558067",
     "exception": false,
     "start_time": "2023-10-03T18:40:11.532046",
     "status": "completed"
    },
    "tags": []
   },
   "outputs": [],
   "source": [
    "df = pd.get_dummies(df,columns=['Geography','Gender'],drop_first=True)"
   ]
  },
  {
   "cell_type": "code",
   "execution_count": 14,
   "id": "b3546623",
   "metadata": {
    "execution": {
     "iopub.execute_input": "2023-10-03T18:40:11.578891Z",
     "iopub.status.busy": "2023-10-03T18:40:11.578235Z",
     "iopub.status.idle": "2023-10-03T18:40:11.583920Z",
     "shell.execute_reply": "2023-10-03T18:40:11.582623Z"
    },
    "papermill": {
     "duration": 0.018631,
     "end_time": "2023-10-03T18:40:11.586075",
     "exception": false,
     "start_time": "2023-10-03T18:40:11.567444",
     "status": "completed"
    },
    "tags": []
   },
   "outputs": [],
   "source": [
    "df = df.astype(int)"
   ]
  },
  {
   "cell_type": "code",
   "execution_count": 15,
   "id": "39337b18",
   "metadata": {
    "execution": {
     "iopub.execute_input": "2023-10-03T18:40:11.607198Z",
     "iopub.status.busy": "2023-10-03T18:40:11.606759Z",
     "iopub.status.idle": "2023-10-03T18:40:11.623803Z",
     "shell.execute_reply": "2023-10-03T18:40:11.622586Z"
    },
    "papermill": {
     "duration": 0.030578,
     "end_time": "2023-10-03T18:40:11.625890",
     "exception": false,
     "start_time": "2023-10-03T18:40:11.595312",
     "status": "completed"
    },
    "tags": []
   },
   "outputs": [
    {
     "data": {
      "text/html": [
       "<div>\n",
       "<style scoped>\n",
       "    .dataframe tbody tr th:only-of-type {\n",
       "        vertical-align: middle;\n",
       "    }\n",
       "\n",
       "    .dataframe tbody tr th {\n",
       "        vertical-align: top;\n",
       "    }\n",
       "\n",
       "    .dataframe thead th {\n",
       "        text-align: right;\n",
       "    }\n",
       "</style>\n",
       "<table border=\"1\" class=\"dataframe\">\n",
       "  <thead>\n",
       "    <tr style=\"text-align: right;\">\n",
       "      <th></th>\n",
       "      <th>CreditScore</th>\n",
       "      <th>Age</th>\n",
       "      <th>Tenure</th>\n",
       "      <th>Balance</th>\n",
       "      <th>NumOfProducts</th>\n",
       "      <th>HasCrCard</th>\n",
       "      <th>IsActiveMember</th>\n",
       "      <th>EstimatedSalary</th>\n",
       "      <th>Exited</th>\n",
       "      <th>Geography_Germany</th>\n",
       "      <th>Geography_Spain</th>\n",
       "      <th>Gender_Male</th>\n",
       "    </tr>\n",
       "  </thead>\n",
       "  <tbody>\n",
       "    <tr>\n",
       "      <th>0</th>\n",
       "      <td>619</td>\n",
       "      <td>42</td>\n",
       "      <td>2</td>\n",
       "      <td>0</td>\n",
       "      <td>1</td>\n",
       "      <td>1</td>\n",
       "      <td>1</td>\n",
       "      <td>101348</td>\n",
       "      <td>1</td>\n",
       "      <td>0</td>\n",
       "      <td>0</td>\n",
       "      <td>0</td>\n",
       "    </tr>\n",
       "    <tr>\n",
       "      <th>1</th>\n",
       "      <td>608</td>\n",
       "      <td>41</td>\n",
       "      <td>1</td>\n",
       "      <td>83807</td>\n",
       "      <td>1</td>\n",
       "      <td>0</td>\n",
       "      <td>1</td>\n",
       "      <td>112542</td>\n",
       "      <td>0</td>\n",
       "      <td>0</td>\n",
       "      <td>1</td>\n",
       "      <td>0</td>\n",
       "    </tr>\n",
       "    <tr>\n",
       "      <th>2</th>\n",
       "      <td>502</td>\n",
       "      <td>42</td>\n",
       "      <td>8</td>\n",
       "      <td>159660</td>\n",
       "      <td>3</td>\n",
       "      <td>1</td>\n",
       "      <td>0</td>\n",
       "      <td>113931</td>\n",
       "      <td>1</td>\n",
       "      <td>0</td>\n",
       "      <td>0</td>\n",
       "      <td>0</td>\n",
       "    </tr>\n",
       "    <tr>\n",
       "      <th>3</th>\n",
       "      <td>699</td>\n",
       "      <td>39</td>\n",
       "      <td>1</td>\n",
       "      <td>0</td>\n",
       "      <td>2</td>\n",
       "      <td>0</td>\n",
       "      <td>0</td>\n",
       "      <td>93826</td>\n",
       "      <td>0</td>\n",
       "      <td>0</td>\n",
       "      <td>0</td>\n",
       "      <td>0</td>\n",
       "    </tr>\n",
       "    <tr>\n",
       "      <th>4</th>\n",
       "      <td>850</td>\n",
       "      <td>43</td>\n",
       "      <td>2</td>\n",
       "      <td>125510</td>\n",
       "      <td>1</td>\n",
       "      <td>1</td>\n",
       "      <td>1</td>\n",
       "      <td>79084</td>\n",
       "      <td>0</td>\n",
       "      <td>0</td>\n",
       "      <td>1</td>\n",
       "      <td>0</td>\n",
       "    </tr>\n",
       "    <tr>\n",
       "      <th>...</th>\n",
       "      <td>...</td>\n",
       "      <td>...</td>\n",
       "      <td>...</td>\n",
       "      <td>...</td>\n",
       "      <td>...</td>\n",
       "      <td>...</td>\n",
       "      <td>...</td>\n",
       "      <td>...</td>\n",
       "      <td>...</td>\n",
       "      <td>...</td>\n",
       "      <td>...</td>\n",
       "      <td>...</td>\n",
       "    </tr>\n",
       "    <tr>\n",
       "      <th>9995</th>\n",
       "      <td>771</td>\n",
       "      <td>39</td>\n",
       "      <td>5</td>\n",
       "      <td>0</td>\n",
       "      <td>2</td>\n",
       "      <td>1</td>\n",
       "      <td>0</td>\n",
       "      <td>96270</td>\n",
       "      <td>0</td>\n",
       "      <td>0</td>\n",
       "      <td>0</td>\n",
       "      <td>1</td>\n",
       "    </tr>\n",
       "    <tr>\n",
       "      <th>9996</th>\n",
       "      <td>516</td>\n",
       "      <td>35</td>\n",
       "      <td>10</td>\n",
       "      <td>57369</td>\n",
       "      <td>1</td>\n",
       "      <td>1</td>\n",
       "      <td>1</td>\n",
       "      <td>101699</td>\n",
       "      <td>0</td>\n",
       "      <td>0</td>\n",
       "      <td>0</td>\n",
       "      <td>1</td>\n",
       "    </tr>\n",
       "    <tr>\n",
       "      <th>9997</th>\n",
       "      <td>709</td>\n",
       "      <td>36</td>\n",
       "      <td>7</td>\n",
       "      <td>0</td>\n",
       "      <td>1</td>\n",
       "      <td>0</td>\n",
       "      <td>1</td>\n",
       "      <td>42085</td>\n",
       "      <td>1</td>\n",
       "      <td>0</td>\n",
       "      <td>0</td>\n",
       "      <td>0</td>\n",
       "    </tr>\n",
       "    <tr>\n",
       "      <th>9998</th>\n",
       "      <td>772</td>\n",
       "      <td>42</td>\n",
       "      <td>3</td>\n",
       "      <td>75075</td>\n",
       "      <td>2</td>\n",
       "      <td>1</td>\n",
       "      <td>0</td>\n",
       "      <td>92888</td>\n",
       "      <td>1</td>\n",
       "      <td>1</td>\n",
       "      <td>0</td>\n",
       "      <td>1</td>\n",
       "    </tr>\n",
       "    <tr>\n",
       "      <th>9999</th>\n",
       "      <td>792</td>\n",
       "      <td>28</td>\n",
       "      <td>4</td>\n",
       "      <td>130142</td>\n",
       "      <td>1</td>\n",
       "      <td>1</td>\n",
       "      <td>0</td>\n",
       "      <td>38190</td>\n",
       "      <td>0</td>\n",
       "      <td>0</td>\n",
       "      <td>0</td>\n",
       "      <td>0</td>\n",
       "    </tr>\n",
       "  </tbody>\n",
       "</table>\n",
       "<p>10000 rows × 12 columns</p>\n",
       "</div>"
      ],
      "text/plain": [
       "      CreditScore  Age  Tenure  Balance  NumOfProducts  HasCrCard  \\\n",
       "0             619   42       2        0              1          1   \n",
       "1             608   41       1    83807              1          0   \n",
       "2             502   42       8   159660              3          1   \n",
       "3             699   39       1        0              2          0   \n",
       "4             850   43       2   125510              1          1   \n",
       "...           ...  ...     ...      ...            ...        ...   \n",
       "9995          771   39       5        0              2          1   \n",
       "9996          516   35      10    57369              1          1   \n",
       "9997          709   36       7        0              1          0   \n",
       "9998          772   42       3    75075              2          1   \n",
       "9999          792   28       4   130142              1          1   \n",
       "\n",
       "      IsActiveMember  EstimatedSalary  Exited  Geography_Germany  \\\n",
       "0                  1           101348       1                  0   \n",
       "1                  1           112542       0                  0   \n",
       "2                  0           113931       1                  0   \n",
       "3                  0            93826       0                  0   \n",
       "4                  1            79084       0                  0   \n",
       "...              ...              ...     ...                ...   \n",
       "9995               0            96270       0                  0   \n",
       "9996               1           101699       0                  0   \n",
       "9997               1            42085       1                  0   \n",
       "9998               0            92888       1                  1   \n",
       "9999               0            38190       0                  0   \n",
       "\n",
       "      Geography_Spain  Gender_Male  \n",
       "0                   0            0  \n",
       "1                   1            0  \n",
       "2                   0            0  \n",
       "3                   0            0  \n",
       "4                   1            0  \n",
       "...               ...          ...  \n",
       "9995                0            1  \n",
       "9996                0            1  \n",
       "9997                0            0  \n",
       "9998                0            1  \n",
       "9999                0            0  \n",
       "\n",
       "[10000 rows x 12 columns]"
      ]
     },
     "execution_count": 15,
     "metadata": {},
     "output_type": "execute_result"
    }
   ],
   "source": [
    "df"
   ]
  },
  {
   "cell_type": "code",
   "execution_count": 16,
   "id": "18a2851e",
   "metadata": {
    "execution": {
     "iopub.execute_input": "2023-10-03T18:40:11.649541Z",
     "iopub.status.busy": "2023-10-03T18:40:11.648791Z",
     "iopub.status.idle": "2023-10-03T18:40:12.971111Z",
     "shell.execute_reply": "2023-10-03T18:40:12.969987Z"
    },
    "papermill": {
     "duration": 1.337564,
     "end_time": "2023-10-03T18:40:12.973798",
     "exception": false,
     "start_time": "2023-10-03T18:40:11.636234",
     "status": "completed"
    },
    "tags": []
   },
   "outputs": [],
   "source": [
    "from sklearn.model_selection import train_test_split"
   ]
  },
  {
   "cell_type": "code",
   "execution_count": 17,
   "id": "02a72c73",
   "metadata": {
    "execution": {
     "iopub.execute_input": "2023-10-03T18:40:12.995720Z",
     "iopub.status.busy": "2023-10-03T18:40:12.995317Z",
     "iopub.status.idle": "2023-10-03T18:40:13.003150Z",
     "shell.execute_reply": "2023-10-03T18:40:13.001909Z"
    },
    "papermill": {
     "duration": 0.021829,
     "end_time": "2023-10-03T18:40:13.005674",
     "exception": false,
     "start_time": "2023-10-03T18:40:12.983845",
     "status": "completed"
    },
    "tags": []
   },
   "outputs": [
    {
     "data": {
      "text/plain": [
       "Index(['CreditScore', 'Age', 'Tenure', 'Balance', 'NumOfProducts', 'HasCrCard',\n",
       "       'IsActiveMember', 'EstimatedSalary', 'Exited', 'Geography_Germany',\n",
       "       'Geography_Spain', 'Gender_Male'],\n",
       "      dtype='object')"
      ]
     },
     "execution_count": 17,
     "metadata": {},
     "output_type": "execute_result"
    }
   ],
   "source": [
    "df.columns"
   ]
  },
  {
   "cell_type": "code",
   "execution_count": 18,
   "id": "4d6879fc",
   "metadata": {
    "execution": {
     "iopub.execute_input": "2023-10-03T18:40:13.028458Z",
     "iopub.status.busy": "2023-10-03T18:40:13.028042Z",
     "iopub.status.idle": "2023-10-03T18:40:13.035746Z",
     "shell.execute_reply": "2023-10-03T18:40:13.034527Z"
    },
    "papermill": {
     "duration": 0.021043,
     "end_time": "2023-10-03T18:40:13.037700",
     "exception": false,
     "start_time": "2023-10-03T18:40:13.016657",
     "status": "completed"
    },
    "tags": []
   },
   "outputs": [],
   "source": [
    "X = df.drop(columns=['Exited'])"
   ]
  },
  {
   "cell_type": "code",
   "execution_count": 19,
   "id": "71ed6dd3",
   "metadata": {
    "execution": {
     "iopub.execute_input": "2023-10-03T18:40:13.059063Z",
     "iopub.status.busy": "2023-10-03T18:40:13.058665Z",
     "iopub.status.idle": "2023-10-03T18:40:13.065890Z",
     "shell.execute_reply": "2023-10-03T18:40:13.064883Z"
    },
    "papermill": {
     "duration": 0.020242,
     "end_time": "2023-10-03T18:40:13.067760",
     "exception": false,
     "start_time": "2023-10-03T18:40:13.047518",
     "status": "completed"
    },
    "tags": []
   },
   "outputs": [
    {
     "data": {
      "text/plain": [
       "Index(['CreditScore', 'Age', 'Tenure', 'Balance', 'NumOfProducts', 'HasCrCard',\n",
       "       'IsActiveMember', 'EstimatedSalary', 'Geography_Germany',\n",
       "       'Geography_Spain', 'Gender_Male'],\n",
       "      dtype='object')"
      ]
     },
     "execution_count": 19,
     "metadata": {},
     "output_type": "execute_result"
    }
   ],
   "source": [
    "X.columns"
   ]
  },
  {
   "cell_type": "code",
   "execution_count": 20,
   "id": "fed6d143",
   "metadata": {
    "execution": {
     "iopub.execute_input": "2023-10-03T18:40:13.090300Z",
     "iopub.status.busy": "2023-10-03T18:40:13.088845Z",
     "iopub.status.idle": "2023-10-03T18:40:13.093962Z",
     "shell.execute_reply": "2023-10-03T18:40:13.093206Z"
    },
    "papermill": {
     "duration": 0.018288,
     "end_time": "2023-10-03T18:40:13.095906",
     "exception": false,
     "start_time": "2023-10-03T18:40:13.077618",
     "status": "completed"
    },
    "tags": []
   },
   "outputs": [],
   "source": [
    "y = df['Exited']"
   ]
  },
  {
   "cell_type": "code",
   "execution_count": 21,
   "id": "9ac33e4c",
   "metadata": {
    "execution": {
     "iopub.execute_input": "2023-10-03T18:40:13.118618Z",
     "iopub.status.busy": "2023-10-03T18:40:13.117873Z",
     "iopub.status.idle": "2023-10-03T18:40:13.126199Z",
     "shell.execute_reply": "2023-10-03T18:40:13.125177Z"
    },
    "papermill": {
     "duration": 0.022411,
     "end_time": "2023-10-03T18:40:13.128162",
     "exception": false,
     "start_time": "2023-10-03T18:40:13.105751",
     "status": "completed"
    },
    "tags": []
   },
   "outputs": [
    {
     "data": {
      "text/plain": [
       "0       1\n",
       "1       0\n",
       "2       1\n",
       "3       0\n",
       "4       0\n",
       "       ..\n",
       "9995    0\n",
       "9996    0\n",
       "9997    1\n",
       "9998    1\n",
       "9999    0\n",
       "Name: Exited, Length: 10000, dtype: int64"
      ]
     },
     "execution_count": 21,
     "metadata": {},
     "output_type": "execute_result"
    }
   ],
   "source": [
    "y"
   ]
  },
  {
   "cell_type": "code",
   "execution_count": 22,
   "id": "4e897422",
   "metadata": {
    "execution": {
     "iopub.execute_input": "2023-10-03T18:40:13.150424Z",
     "iopub.status.busy": "2023-10-03T18:40:13.149734Z",
     "iopub.status.idle": "2023-10-03T18:40:13.159960Z",
     "shell.execute_reply": "2023-10-03T18:40:13.158721Z"
    },
    "papermill": {
     "duration": 0.02422,
     "end_time": "2023-10-03T18:40:13.162412",
     "exception": false,
     "start_time": "2023-10-03T18:40:13.138192",
     "status": "completed"
    },
    "tags": []
   },
   "outputs": [],
   "source": [
    "X_train,X_test,y_train,y_test = train_test_split(X,y,test_size=0.2,random_state=2)"
   ]
  },
  {
   "cell_type": "code",
   "execution_count": 23,
   "id": "c86cbe12",
   "metadata": {
    "execution": {
     "iopub.execute_input": "2023-10-03T18:40:13.184483Z",
     "iopub.status.busy": "2023-10-03T18:40:13.183999Z",
     "iopub.status.idle": "2023-10-03T18:40:13.191648Z",
     "shell.execute_reply": "2023-10-03T18:40:13.190552Z"
    },
    "papermill": {
     "duration": 0.021275,
     "end_time": "2023-10-03T18:40:13.193680",
     "exception": false,
     "start_time": "2023-10-03T18:40:13.172405",
     "status": "completed"
    },
    "tags": []
   },
   "outputs": [
    {
     "data": {
      "text/plain": [
       "(8000, 11)"
      ]
     },
     "execution_count": 23,
     "metadata": {},
     "output_type": "execute_result"
    }
   ],
   "source": [
    "X_train.shape"
   ]
  },
  {
   "cell_type": "code",
   "execution_count": 24,
   "id": "b1f64a18",
   "metadata": {
    "execution": {
     "iopub.execute_input": "2023-10-03T18:40:13.216240Z",
     "iopub.status.busy": "2023-10-03T18:40:13.215798Z",
     "iopub.status.idle": "2023-10-03T18:40:13.222595Z",
     "shell.execute_reply": "2023-10-03T18:40:13.221538Z"
    },
    "papermill": {
     "duration": 0.020361,
     "end_time": "2023-10-03T18:40:13.224643",
     "exception": false,
     "start_time": "2023-10-03T18:40:13.204282",
     "status": "completed"
    },
    "tags": []
   },
   "outputs": [
    {
     "data": {
      "text/plain": [
       "(2000, 11)"
      ]
     },
     "execution_count": 24,
     "metadata": {},
     "output_type": "execute_result"
    }
   ],
   "source": [
    "X_test.shape"
   ]
  },
  {
   "cell_type": "code",
   "execution_count": 25,
   "id": "dc3a8639",
   "metadata": {
    "execution": {
     "iopub.execute_input": "2023-10-03T18:40:13.246948Z",
     "iopub.status.busy": "2023-10-03T18:40:13.246491Z",
     "iopub.status.idle": "2023-10-03T18:40:13.253084Z",
     "shell.execute_reply": "2023-10-03T18:40:13.252006Z"
    },
    "papermill": {
     "duration": 0.020639,
     "end_time": "2023-10-03T18:40:13.255453",
     "exception": false,
     "start_time": "2023-10-03T18:40:13.234814",
     "status": "completed"
    },
    "tags": []
   },
   "outputs": [
    {
     "data": {
      "text/plain": [
       "((8000,), (2000,))"
      ]
     },
     "execution_count": 25,
     "metadata": {},
     "output_type": "execute_result"
    }
   ],
   "source": [
    "y_train.shape, y_test.shape"
   ]
  },
  {
   "cell_type": "code",
   "execution_count": 26,
   "id": "640e3ab3",
   "metadata": {
    "execution": {
     "iopub.execute_input": "2023-10-03T18:40:13.279214Z",
     "iopub.status.busy": "2023-10-03T18:40:13.278758Z",
     "iopub.status.idle": "2023-10-03T18:40:13.283851Z",
     "shell.execute_reply": "2023-10-03T18:40:13.282690Z"
    },
    "papermill": {
     "duration": 0.019425,
     "end_time": "2023-10-03T18:40:13.286027",
     "exception": false,
     "start_time": "2023-10-03T18:40:13.266602",
     "status": "completed"
    },
    "tags": []
   },
   "outputs": [],
   "source": [
    "from sklearn.preprocessing import StandardScaler"
   ]
  },
  {
   "cell_type": "code",
   "execution_count": 27,
   "id": "e063c1d7",
   "metadata": {
    "execution": {
     "iopub.execute_input": "2023-10-03T18:40:13.309265Z",
     "iopub.status.busy": "2023-10-03T18:40:13.308885Z",
     "iopub.status.idle": "2023-10-03T18:40:13.314206Z",
     "shell.execute_reply": "2023-10-03T18:40:13.313041Z"
    },
    "papermill": {
     "duration": 0.019477,
     "end_time": "2023-10-03T18:40:13.316343",
     "exception": false,
     "start_time": "2023-10-03T18:40:13.296866",
     "status": "completed"
    },
    "tags": []
   },
   "outputs": [],
   "source": [
    "Scaler = StandardScaler()"
   ]
  },
  {
   "cell_type": "code",
   "execution_count": 28,
   "id": "a93b7a3a",
   "metadata": {
    "execution": {
     "iopub.execute_input": "2023-10-03T18:40:13.339200Z",
     "iopub.status.busy": "2023-10-03T18:40:13.338831Z",
     "iopub.status.idle": "2023-10-03T18:40:13.350458Z",
     "shell.execute_reply": "2023-10-03T18:40:13.349449Z"
    },
    "papermill": {
     "duration": 0.025312,
     "end_time": "2023-10-03T18:40:13.352657",
     "exception": false,
     "start_time": "2023-10-03T18:40:13.327345",
     "status": "completed"
    },
    "tags": []
   },
   "outputs": [],
   "source": [
    "X_train_scaler = Scaler.fit_transform(X_train)"
   ]
  },
  {
   "cell_type": "code",
   "execution_count": 29,
   "id": "199b761c",
   "metadata": {
    "execution": {
     "iopub.execute_input": "2023-10-03T18:40:13.376123Z",
     "iopub.status.busy": "2023-10-03T18:40:13.375686Z",
     "iopub.status.idle": "2023-10-03T18:40:13.384948Z",
     "shell.execute_reply": "2023-10-03T18:40:13.383733Z"
    },
    "papermill": {
     "duration": 0.023623,
     "end_time": "2023-10-03T18:40:13.387237",
     "exception": false,
     "start_time": "2023-10-03T18:40:13.363614",
     "status": "completed"
    },
    "tags": []
   },
   "outputs": [],
   "source": [
    "X_test_scaler = Scaler.fit_transform(X_test)"
   ]
  },
  {
   "cell_type": "code",
   "execution_count": 30,
   "id": "0f16ef57",
   "metadata": {
    "execution": {
     "iopub.execute_input": "2023-10-03T18:40:13.410341Z",
     "iopub.status.busy": "2023-10-03T18:40:13.409524Z",
     "iopub.status.idle": "2023-10-03T18:40:13.416672Z",
     "shell.execute_reply": "2023-10-03T18:40:13.415673Z"
    },
    "papermill": {
     "duration": 0.021569,
     "end_time": "2023-10-03T18:40:13.419320",
     "exception": false,
     "start_time": "2023-10-03T18:40:13.397751",
     "status": "completed"
    },
    "tags": []
   },
   "outputs": [
    {
     "data": {
      "text/plain": [
       "array([[ 1.27754581, -1.23264342, -0.012743  , ..., -0.58408625,\n",
       "        -0.57138416, -1.0862028 ],\n",
       "       [-0.49959477,  0.28410615,  0.33282985, ...,  1.71207591,\n",
       "        -0.57138416, -1.0862028 ],\n",
       "       [ 0.67827747, -0.09508124, -1.39503438, ..., -0.58408625,\n",
       "        -0.57138416, -1.0862028 ],\n",
       "       ...,\n",
       "       [ 2.06279398, -0.28467494, -0.70388869, ..., -0.58408625,\n",
       "        -0.57138416,  0.9206384 ],\n",
       "       [-1.02653762,  1.42166833, -0.012743  , ...,  1.71207591,\n",
       "        -0.57138416,  0.9206384 ],\n",
       "       [ 0.03768029, -1.04304972,  0.67840269, ..., -0.58408625,\n",
       "        -0.57138416, -1.0862028 ]])"
      ]
     },
     "execution_count": 30,
     "metadata": {},
     "output_type": "execute_result"
    }
   ],
   "source": [
    "X_train_scaler"
   ]
  },
  {
   "cell_type": "code",
   "execution_count": 31,
   "id": "650e7437",
   "metadata": {
    "execution": {
     "iopub.execute_input": "2023-10-03T18:40:13.442476Z",
     "iopub.status.busy": "2023-10-03T18:40:13.442046Z",
     "iopub.status.idle": "2023-10-03T18:40:22.736053Z",
     "shell.execute_reply": "2023-10-03T18:40:22.734529Z"
    },
    "papermill": {
     "duration": 9.308638,
     "end_time": "2023-10-03T18:40:22.738630",
     "exception": false,
     "start_time": "2023-10-03T18:40:13.429992",
     "status": "completed"
    },
    "tags": []
   },
   "outputs": [],
   "source": [
    "import tensorflow\n",
    "from tensorflow import keras\n",
    "from tensorflow.keras import Sequential\n",
    "from tensorflow.keras.layers import Dense"
   ]
  },
  {
   "cell_type": "code",
   "execution_count": 32,
   "id": "69cc145a",
   "metadata": {
    "execution": {
     "iopub.execute_input": "2023-10-03T18:40:22.762943Z",
     "iopub.status.busy": "2023-10-03T18:40:22.761850Z",
     "iopub.status.idle": "2023-10-03T18:40:22.951419Z",
     "shell.execute_reply": "2023-10-03T18:40:22.950137Z"
    },
    "papermill": {
     "duration": 0.204272,
     "end_time": "2023-10-03T18:40:22.953932",
     "exception": false,
     "start_time": "2023-10-03T18:40:22.749660",
     "status": "completed"
    },
    "tags": []
   },
   "outputs": [],
   "source": [
    "model=Sequential()\n",
    "\n",
    "model.add(Dense(11,activation=\"sigmoid\",input_dim=11))\n",
    "model.add(Dense(1,activation='sigmoid'))"
   ]
  },
  {
   "cell_type": "code",
   "execution_count": 33,
   "id": "6ae9cd2f",
   "metadata": {
    "execution": {
     "iopub.execute_input": "2023-10-03T18:40:22.978559Z",
     "iopub.status.busy": "2023-10-03T18:40:22.978119Z",
     "iopub.status.idle": "2023-10-03T18:40:22.997770Z",
     "shell.execute_reply": "2023-10-03T18:40:22.996383Z"
    },
    "papermill": {
     "duration": 0.036498,
     "end_time": "2023-10-03T18:40:23.001039",
     "exception": false,
     "start_time": "2023-10-03T18:40:22.964541",
     "status": "completed"
    },
    "tags": []
   },
   "outputs": [
    {
     "name": "stdout",
     "output_type": "stream",
     "text": [
      "Model: \"sequential\"\n",
      "_________________________________________________________________\n",
      " Layer (type)                Output Shape              Param #   \n",
      "=================================================================\n",
      " dense (Dense)               (None, 11)                132       \n",
      "                                                                 \n",
      " dense_1 (Dense)             (None, 1)                 12        \n",
      "                                                                 \n",
      "=================================================================\n",
      "Total params: 144\n",
      "Trainable params: 144\n",
      "Non-trainable params: 0\n",
      "_________________________________________________________________\n"
     ]
    }
   ],
   "source": [
    "model.summary()"
   ]
  },
  {
   "cell_type": "code",
   "execution_count": 34,
   "id": "b21d7963",
   "metadata": {
    "execution": {
     "iopub.execute_input": "2023-10-03T18:40:23.026016Z",
     "iopub.status.busy": "2023-10-03T18:40:23.025639Z",
     "iopub.status.idle": "2023-10-03T18:40:23.044706Z",
     "shell.execute_reply": "2023-10-03T18:40:23.043617Z"
    },
    "papermill": {
     "duration": 0.034019,
     "end_time": "2023-10-03T18:40:23.047166",
     "exception": false,
     "start_time": "2023-10-03T18:40:23.013147",
     "status": "completed"
    },
    "tags": []
   },
   "outputs": [],
   "source": [
    "model.compile(optimizer='Adam',loss='binary_crossentropy',metrics=['accuracy'])"
   ]
  },
  {
   "cell_type": "code",
   "execution_count": 35,
   "id": "dcbe9d92",
   "metadata": {
    "execution": {
     "iopub.execute_input": "2023-10-03T18:40:23.071663Z",
     "iopub.status.busy": "2023-10-03T18:40:23.071316Z",
     "iopub.status.idle": "2023-10-03T18:40:51.799650Z",
     "shell.execute_reply": "2023-10-03T18:40:51.798449Z"
    },
    "papermill": {
     "duration": 28.743662,
     "end_time": "2023-10-03T18:40:51.802320",
     "exception": false,
     "start_time": "2023-10-03T18:40:23.058658",
     "status": "completed"
    },
    "tags": []
   },
   "outputs": [
    {
     "name": "stdout",
     "output_type": "stream",
     "text": [
      "Epoch 1/100\n",
      "128/128 [==============================] - 1s 4ms/step - loss: 0.8819 - accuracy: 0.2775 - val_loss: 0.7103 - val_accuracy: 0.5063\n",
      "Epoch 2/100\n",
      "128/128 [==============================] - 0s 2ms/step - loss: 0.6172 - accuracy: 0.7041 - val_loss: 0.5398 - val_accuracy: 0.8119\n",
      "Epoch 3/100\n",
      "128/128 [==============================] - 0s 2ms/step - loss: 0.5145 - accuracy: 0.7934 - val_loss: 0.4756 - val_accuracy: 0.8100\n",
      "Epoch 4/100\n",
      "128/128 [==============================] - 0s 2ms/step - loss: 0.4765 - accuracy: 0.7914 - val_loss: 0.4494 - val_accuracy: 0.8094\n",
      "Epoch 5/100\n",
      "128/128 [==============================] - 0s 2ms/step - loss: 0.4603 - accuracy: 0.7925 - val_loss: 0.4364 - val_accuracy: 0.8112\n",
      "Epoch 6/100\n",
      "128/128 [==============================] - 0s 2ms/step - loss: 0.4518 - accuracy: 0.7931 - val_loss: 0.4289 - val_accuracy: 0.8125\n",
      "Epoch 7/100\n",
      "128/128 [==============================] - 0s 3ms/step - loss: 0.4463 - accuracy: 0.7980 - val_loss: 0.4238 - val_accuracy: 0.8175\n",
      "Epoch 8/100\n",
      "128/128 [==============================] - 0s 2ms/step - loss: 0.4422 - accuracy: 0.8023 - val_loss: 0.4199 - val_accuracy: 0.8231\n",
      "Epoch 9/100\n",
      "128/128 [==============================] - 0s 2ms/step - loss: 0.4392 - accuracy: 0.8048 - val_loss: 0.4169 - val_accuracy: 0.8238\n",
      "Epoch 10/100\n",
      "128/128 [==============================] - 0s 2ms/step - loss: 0.4368 - accuracy: 0.8044 - val_loss: 0.4143 - val_accuracy: 0.8256\n",
      "Epoch 11/100\n",
      "128/128 [==============================] - 0s 2ms/step - loss: 0.4348 - accuracy: 0.8047 - val_loss: 0.4120 - val_accuracy: 0.8263\n",
      "Epoch 12/100\n",
      "128/128 [==============================] - 0s 2ms/step - loss: 0.4333 - accuracy: 0.8045 - val_loss: 0.4104 - val_accuracy: 0.8256\n",
      "Epoch 13/100\n",
      "128/128 [==============================] - 0s 2ms/step - loss: 0.4319 - accuracy: 0.8052 - val_loss: 0.4091 - val_accuracy: 0.8244\n",
      "Epoch 14/100\n",
      "128/128 [==============================] - 0s 2ms/step - loss: 0.4307 - accuracy: 0.8072 - val_loss: 0.4074 - val_accuracy: 0.8250\n",
      "Epoch 15/100\n",
      "128/128 [==============================] - 0s 2ms/step - loss: 0.4297 - accuracy: 0.8067 - val_loss: 0.4063 - val_accuracy: 0.8231\n",
      "Epoch 16/100\n",
      "128/128 [==============================] - 0s 2ms/step - loss: 0.4286 - accuracy: 0.8067 - val_loss: 0.4052 - val_accuracy: 0.8250\n",
      "Epoch 17/100\n",
      "128/128 [==============================] - 0s 2ms/step - loss: 0.4275 - accuracy: 0.8083 - val_loss: 0.4039 - val_accuracy: 0.8225\n",
      "Epoch 18/100\n",
      "128/128 [==============================] - 0s 2ms/step - loss: 0.4265 - accuracy: 0.8084 - val_loss: 0.4027 - val_accuracy: 0.8225\n",
      "Epoch 19/100\n",
      "128/128 [==============================] - 0s 2ms/step - loss: 0.4256 - accuracy: 0.8081 - val_loss: 0.4016 - val_accuracy: 0.8244\n",
      "Epoch 20/100\n",
      "128/128 [==============================] - 0s 2ms/step - loss: 0.4244 - accuracy: 0.8092 - val_loss: 0.4005 - val_accuracy: 0.8256\n",
      "Epoch 21/100\n",
      "128/128 [==============================] - 0s 2ms/step - loss: 0.4232 - accuracy: 0.8092 - val_loss: 0.3992 - val_accuracy: 0.8269\n",
      "Epoch 22/100\n",
      "128/128 [==============================] - 0s 2ms/step - loss: 0.4220 - accuracy: 0.8100 - val_loss: 0.3978 - val_accuracy: 0.8263\n",
      "Epoch 23/100\n",
      "128/128 [==============================] - 0s 2ms/step - loss: 0.4208 - accuracy: 0.8112 - val_loss: 0.3970 - val_accuracy: 0.8250\n",
      "Epoch 24/100\n",
      "128/128 [==============================] - 0s 2ms/step - loss: 0.4196 - accuracy: 0.8131 - val_loss: 0.3955 - val_accuracy: 0.8269\n",
      "Epoch 25/100\n",
      "128/128 [==============================] - 0s 2ms/step - loss: 0.4183 - accuracy: 0.8134 - val_loss: 0.3942 - val_accuracy: 0.8275\n",
      "Epoch 26/100\n",
      "128/128 [==============================] - 0s 2ms/step - loss: 0.4170 - accuracy: 0.8144 - val_loss: 0.3928 - val_accuracy: 0.8288\n",
      "Epoch 27/100\n",
      "128/128 [==============================] - 0s 2ms/step - loss: 0.4155 - accuracy: 0.8155 - val_loss: 0.3915 - val_accuracy: 0.8300\n",
      "Epoch 28/100\n",
      "128/128 [==============================] - 0s 2ms/step - loss: 0.4141 - accuracy: 0.8164 - val_loss: 0.3897 - val_accuracy: 0.8331\n",
      "Epoch 29/100\n",
      "128/128 [==============================] - 0s 2ms/step - loss: 0.4126 - accuracy: 0.8178 - val_loss: 0.3880 - val_accuracy: 0.8338\n",
      "Epoch 30/100\n",
      "128/128 [==============================] - 0s 2ms/step - loss: 0.4110 - accuracy: 0.8202 - val_loss: 0.3873 - val_accuracy: 0.8400\n",
      "Epoch 31/100\n",
      "128/128 [==============================] - 0s 2ms/step - loss: 0.4097 - accuracy: 0.8189 - val_loss: 0.3852 - val_accuracy: 0.8400\n",
      "Epoch 32/100\n",
      "128/128 [==============================] - 0s 2ms/step - loss: 0.4080 - accuracy: 0.8213 - val_loss: 0.3834 - val_accuracy: 0.8400\n",
      "Epoch 33/100\n",
      "128/128 [==============================] - 0s 2ms/step - loss: 0.4064 - accuracy: 0.8219 - val_loss: 0.3819 - val_accuracy: 0.8425\n",
      "Epoch 34/100\n",
      "128/128 [==============================] - 0s 2ms/step - loss: 0.4049 - accuracy: 0.8239 - val_loss: 0.3800 - val_accuracy: 0.8406\n",
      "Epoch 35/100\n",
      "128/128 [==============================] - 0s 2ms/step - loss: 0.4032 - accuracy: 0.8259 - val_loss: 0.3795 - val_accuracy: 0.8400\n",
      "Epoch 36/100\n",
      "128/128 [==============================] - 0s 2ms/step - loss: 0.4017 - accuracy: 0.8272 - val_loss: 0.3774 - val_accuracy: 0.8444\n",
      "Epoch 37/100\n",
      "128/128 [==============================] - 0s 2ms/step - loss: 0.4003 - accuracy: 0.8286 - val_loss: 0.3757 - val_accuracy: 0.8450\n",
      "Epoch 38/100\n",
      "128/128 [==============================] - 0s 2ms/step - loss: 0.3987 - accuracy: 0.8295 - val_loss: 0.3745 - val_accuracy: 0.8450\n",
      "Epoch 39/100\n",
      "128/128 [==============================] - 0s 2ms/step - loss: 0.3974 - accuracy: 0.8305 - val_loss: 0.3729 - val_accuracy: 0.8444\n",
      "Epoch 40/100\n",
      "128/128 [==============================] - 0s 2ms/step - loss: 0.3960 - accuracy: 0.8303 - val_loss: 0.3724 - val_accuracy: 0.8469\n",
      "Epoch 41/100\n",
      "128/128 [==============================] - 0s 2ms/step - loss: 0.3946 - accuracy: 0.8338 - val_loss: 0.3714 - val_accuracy: 0.8475\n",
      "Epoch 42/100\n",
      "128/128 [==============================] - 0s 2ms/step - loss: 0.3934 - accuracy: 0.8341 - val_loss: 0.3698 - val_accuracy: 0.8469\n",
      "Epoch 43/100\n",
      "128/128 [==============================] - 0s 2ms/step - loss: 0.3921 - accuracy: 0.8363 - val_loss: 0.3683 - val_accuracy: 0.8469\n",
      "Epoch 44/100\n",
      "128/128 [==============================] - 0s 2ms/step - loss: 0.3908 - accuracy: 0.8367 - val_loss: 0.3666 - val_accuracy: 0.8469\n",
      "Epoch 45/100\n",
      "128/128 [==============================] - 0s 2ms/step - loss: 0.3896 - accuracy: 0.8372 - val_loss: 0.3661 - val_accuracy: 0.8500\n",
      "Epoch 46/100\n",
      "128/128 [==============================] - 0s 2ms/step - loss: 0.3883 - accuracy: 0.8375 - val_loss: 0.3651 - val_accuracy: 0.8494\n",
      "Epoch 47/100\n",
      "128/128 [==============================] - 0s 2ms/step - loss: 0.3871 - accuracy: 0.8383 - val_loss: 0.3636 - val_accuracy: 0.8487\n",
      "Epoch 48/100\n",
      "128/128 [==============================] - 0s 2ms/step - loss: 0.3859 - accuracy: 0.8398 - val_loss: 0.3625 - val_accuracy: 0.8487\n",
      "Epoch 49/100\n",
      "128/128 [==============================] - 0s 2ms/step - loss: 0.3848 - accuracy: 0.8398 - val_loss: 0.3616 - val_accuracy: 0.8500\n",
      "Epoch 50/100\n",
      "128/128 [==============================] - 0s 2ms/step - loss: 0.3836 - accuracy: 0.8405 - val_loss: 0.3605 - val_accuracy: 0.8512\n",
      "Epoch 51/100\n",
      "128/128 [==============================] - 0s 2ms/step - loss: 0.3824 - accuracy: 0.8411 - val_loss: 0.3603 - val_accuracy: 0.8519\n",
      "Epoch 52/100\n",
      "128/128 [==============================] - 0s 2ms/step - loss: 0.3812 - accuracy: 0.8413 - val_loss: 0.3597 - val_accuracy: 0.8531\n",
      "Epoch 53/100\n",
      "128/128 [==============================] - 0s 2ms/step - loss: 0.3803 - accuracy: 0.8422 - val_loss: 0.3578 - val_accuracy: 0.8525\n",
      "Epoch 54/100\n",
      "128/128 [==============================] - 0s 2ms/step - loss: 0.3791 - accuracy: 0.8430 - val_loss: 0.3570 - val_accuracy: 0.8525\n",
      "Epoch 55/100\n",
      "128/128 [==============================] - 0s 2ms/step - loss: 0.3780 - accuracy: 0.8441 - val_loss: 0.3566 - val_accuracy: 0.8525\n",
      "Epoch 56/100\n",
      "128/128 [==============================] - 0s 2ms/step - loss: 0.3768 - accuracy: 0.8438 - val_loss: 0.3558 - val_accuracy: 0.8500\n",
      "Epoch 57/100\n",
      "128/128 [==============================] - 0s 2ms/step - loss: 0.3757 - accuracy: 0.8448 - val_loss: 0.3546 - val_accuracy: 0.8506\n",
      "Epoch 58/100\n",
      "128/128 [==============================] - 0s 2ms/step - loss: 0.3747 - accuracy: 0.8455 - val_loss: 0.3541 - val_accuracy: 0.8519\n",
      "Epoch 59/100\n",
      "128/128 [==============================] - 0s 2ms/step - loss: 0.3736 - accuracy: 0.8467 - val_loss: 0.3533 - val_accuracy: 0.8519\n",
      "Epoch 60/100\n",
      "128/128 [==============================] - 0s 2ms/step - loss: 0.3727 - accuracy: 0.8466 - val_loss: 0.3526 - val_accuracy: 0.8525\n",
      "Epoch 61/100\n",
      "128/128 [==============================] - 0s 2ms/step - loss: 0.3717 - accuracy: 0.8462 - val_loss: 0.3519 - val_accuracy: 0.8531\n",
      "Epoch 62/100\n",
      "128/128 [==============================] - 0s 2ms/step - loss: 0.3708 - accuracy: 0.8455 - val_loss: 0.3511 - val_accuracy: 0.8531\n",
      "Epoch 63/100\n",
      "128/128 [==============================] - 0s 2ms/step - loss: 0.3698 - accuracy: 0.8464 - val_loss: 0.3508 - val_accuracy: 0.8556\n",
      "Epoch 64/100\n",
      "128/128 [==============================] - 0s 2ms/step - loss: 0.3690 - accuracy: 0.8466 - val_loss: 0.3502 - val_accuracy: 0.8556\n",
      "Epoch 65/100\n",
      "128/128 [==============================] - 0s 2ms/step - loss: 0.3680 - accuracy: 0.8467 - val_loss: 0.3495 - val_accuracy: 0.8544\n",
      "Epoch 66/100\n",
      "128/128 [==============================] - 0s 2ms/step - loss: 0.3672 - accuracy: 0.8478 - val_loss: 0.3492 - val_accuracy: 0.8556\n",
      "Epoch 67/100\n",
      "128/128 [==============================] - 0s 2ms/step - loss: 0.3664 - accuracy: 0.8475 - val_loss: 0.3483 - val_accuracy: 0.8550\n",
      "Epoch 68/100\n",
      "128/128 [==============================] - 0s 2ms/step - loss: 0.3656 - accuracy: 0.8483 - val_loss: 0.3474 - val_accuracy: 0.8556\n",
      "Epoch 69/100\n",
      "128/128 [==============================] - 0s 2ms/step - loss: 0.3646 - accuracy: 0.8491 - val_loss: 0.3470 - val_accuracy: 0.8556\n",
      "Epoch 70/100\n",
      "128/128 [==============================] - 0s 2ms/step - loss: 0.3640 - accuracy: 0.8503 - val_loss: 0.3463 - val_accuracy: 0.8575\n",
      "Epoch 71/100\n",
      "128/128 [==============================] - 0s 2ms/step - loss: 0.3633 - accuracy: 0.8495 - val_loss: 0.3460 - val_accuracy: 0.8575\n",
      "Epoch 72/100\n",
      "128/128 [==============================] - 0s 2ms/step - loss: 0.3625 - accuracy: 0.8506 - val_loss: 0.3458 - val_accuracy: 0.8594\n",
      "Epoch 73/100\n",
      "128/128 [==============================] - 0s 2ms/step - loss: 0.3619 - accuracy: 0.8514 - val_loss: 0.3453 - val_accuracy: 0.8581\n",
      "Epoch 74/100\n",
      "128/128 [==============================] - 0s 2ms/step - loss: 0.3611 - accuracy: 0.8516 - val_loss: 0.3457 - val_accuracy: 0.8581\n",
      "Epoch 75/100\n",
      "128/128 [==============================] - 0s 2ms/step - loss: 0.3604 - accuracy: 0.8530 - val_loss: 0.3442 - val_accuracy: 0.8575\n",
      "Epoch 76/100\n",
      "128/128 [==============================] - 0s 2ms/step - loss: 0.3598 - accuracy: 0.8523 - val_loss: 0.3435 - val_accuracy: 0.8587\n",
      "Epoch 77/100\n",
      "128/128 [==============================] - 0s 2ms/step - loss: 0.3593 - accuracy: 0.8541 - val_loss: 0.3432 - val_accuracy: 0.8587\n",
      "Epoch 78/100\n",
      "128/128 [==============================] - 0s 2ms/step - loss: 0.3587 - accuracy: 0.8542 - val_loss: 0.3428 - val_accuracy: 0.8587\n",
      "Epoch 79/100\n",
      "128/128 [==============================] - 0s 2ms/step - loss: 0.3578 - accuracy: 0.8542 - val_loss: 0.3432 - val_accuracy: 0.8587\n",
      "Epoch 80/100\n",
      "128/128 [==============================] - 0s 2ms/step - loss: 0.3574 - accuracy: 0.8553 - val_loss: 0.3429 - val_accuracy: 0.8606\n",
      "Epoch 81/100\n",
      "128/128 [==============================] - 0s 2ms/step - loss: 0.3569 - accuracy: 0.8553 - val_loss: 0.3425 - val_accuracy: 0.8600\n",
      "Epoch 82/100\n",
      "128/128 [==============================] - 0s 2ms/step - loss: 0.3563 - accuracy: 0.8559 - val_loss: 0.3415 - val_accuracy: 0.8600\n",
      "Epoch 83/100\n",
      "128/128 [==============================] - 0s 2ms/step - loss: 0.3558 - accuracy: 0.8553 - val_loss: 0.3414 - val_accuracy: 0.8581\n",
      "Epoch 84/100\n",
      "128/128 [==============================] - 0s 2ms/step - loss: 0.3551 - accuracy: 0.8556 - val_loss: 0.3411 - val_accuracy: 0.8594\n",
      "Epoch 85/100\n",
      "128/128 [==============================] - 0s 2ms/step - loss: 0.3546 - accuracy: 0.8570 - val_loss: 0.3409 - val_accuracy: 0.8594\n",
      "Epoch 86/100\n",
      "128/128 [==============================] - 0s 2ms/step - loss: 0.3541 - accuracy: 0.8559 - val_loss: 0.3404 - val_accuracy: 0.8612\n",
      "Epoch 87/100\n",
      "128/128 [==============================] - 0s 2ms/step - loss: 0.3536 - accuracy: 0.8558 - val_loss: 0.3405 - val_accuracy: 0.8606\n",
      "Epoch 88/100\n",
      "128/128 [==============================] - 0s 2ms/step - loss: 0.3533 - accuracy: 0.8561 - val_loss: 0.3400 - val_accuracy: 0.8625\n",
      "Epoch 89/100\n",
      "128/128 [==============================] - 0s 2ms/step - loss: 0.3527 - accuracy: 0.8578 - val_loss: 0.3400 - val_accuracy: 0.8625\n",
      "Epoch 90/100\n",
      "128/128 [==============================] - 0s 2ms/step - loss: 0.3522 - accuracy: 0.8572 - val_loss: 0.3394 - val_accuracy: 0.8644\n",
      "Epoch 91/100\n",
      "128/128 [==============================] - 0s 2ms/step - loss: 0.3517 - accuracy: 0.8573 - val_loss: 0.3388 - val_accuracy: 0.8637\n",
      "Epoch 92/100\n",
      "128/128 [==============================] - 0s 2ms/step - loss: 0.3516 - accuracy: 0.8567 - val_loss: 0.3389 - val_accuracy: 0.8644\n",
      "Epoch 93/100\n",
      "128/128 [==============================] - 0s 2ms/step - loss: 0.3509 - accuracy: 0.8578 - val_loss: 0.3392 - val_accuracy: 0.8637\n",
      "Epoch 94/100\n",
      "128/128 [==============================] - 0s 2ms/step - loss: 0.3505 - accuracy: 0.8583 - val_loss: 0.3385 - val_accuracy: 0.8656\n",
      "Epoch 95/100\n",
      "128/128 [==============================] - 0s 2ms/step - loss: 0.3500 - accuracy: 0.8584 - val_loss: 0.3387 - val_accuracy: 0.8637\n",
      "Epoch 96/100\n",
      "128/128 [==============================] - 0s 2ms/step - loss: 0.3496 - accuracy: 0.8583 - val_loss: 0.3386 - val_accuracy: 0.8656\n",
      "Epoch 97/100\n",
      "128/128 [==============================] - 0s 2ms/step - loss: 0.3492 - accuracy: 0.8592 - val_loss: 0.3385 - val_accuracy: 0.8644\n",
      "Epoch 98/100\n",
      "128/128 [==============================] - 0s 2ms/step - loss: 0.3489 - accuracy: 0.8586 - val_loss: 0.3374 - val_accuracy: 0.8656\n",
      "Epoch 99/100\n",
      "128/128 [==============================] - 0s 2ms/step - loss: 0.3485 - accuracy: 0.8586 - val_loss: 0.3377 - val_accuracy: 0.8644\n",
      "Epoch 100/100\n",
      "128/128 [==============================] - 0s 2ms/step - loss: 0.3480 - accuracy: 0.8591 - val_loss: 0.3376 - val_accuracy: 0.8637\n"
     ]
    }
   ],
   "source": [
    "history = model.fit(X_train_scaler,y_train,batch_size=50,epochs=100,validation_split=0.2)"
   ]
  },
  {
   "cell_type": "code",
   "execution_count": 36,
   "id": "33a600da",
   "metadata": {
    "execution": {
     "iopub.execute_input": "2023-10-03T18:40:51.892323Z",
     "iopub.status.busy": "2023-10-03T18:40:51.890829Z",
     "iopub.status.idle": "2023-10-03T18:40:52.146754Z",
     "shell.execute_reply": "2023-10-03T18:40:52.145460Z"
    },
    "papermill": {
     "duration": 0.302938,
     "end_time": "2023-10-03T18:40:52.149770",
     "exception": false,
     "start_time": "2023-10-03T18:40:51.846832",
     "status": "completed"
    },
    "tags": []
   },
   "outputs": [
    {
     "name": "stdout",
     "output_type": "stream",
     "text": [
      "63/63 [==============================] - 0s 1ms/step\n"
     ]
    }
   ],
   "source": [
    "y_pred = model.predict(X_test_scaler)"
   ]
  },
  {
   "cell_type": "code",
   "execution_count": 37,
   "id": "ccc6eca4",
   "metadata": {
    "execution": {
     "iopub.execute_input": "2023-10-03T18:40:52.241356Z",
     "iopub.status.busy": "2023-10-03T18:40:52.240939Z",
     "iopub.status.idle": "2023-10-03T18:40:52.249309Z",
     "shell.execute_reply": "2023-10-03T18:40:52.248147Z"
    },
    "papermill": {
     "duration": 0.05692,
     "end_time": "2023-10-03T18:40:52.252164",
     "exception": false,
     "start_time": "2023-10-03T18:40:52.195244",
     "status": "completed"
    },
    "tags": []
   },
   "outputs": [
    {
     "data": {
      "text/plain": [
       "array([[ 0.83007081, -0.0583534 ,  1.76317847, ..., -0.55732934,\n",
       "        -0.58350885, -1.13620013],\n",
       "       [-0.06484497,  0.23487975, -1.0115688 , ...,  1.79427124,\n",
       "        -0.58350885, -1.13620013],\n",
       "       [-0.3458069 ,  1.7010455 ,  0.72264824, ..., -0.55732934,\n",
       "        -0.58350885,  0.88012663],\n",
       "       ...,\n",
       "       [ 0.8716948 , -0.0583534 , -1.35841221, ..., -0.55732934,\n",
       "        -0.58350885, -1.13620013],\n",
       "       [ 0.38261292,  0.03939099, -1.70525562, ..., -0.55732934,\n",
       "        -0.58350885, -1.13620013],\n",
       "       [ 0.72601083,  0.72360167, -1.35841221, ..., -0.55732934,\n",
       "        -0.58350885,  0.88012663]])"
      ]
     },
     "execution_count": 37,
     "metadata": {},
     "output_type": "execute_result"
    }
   ],
   "source": [
    "X_test_scaler"
   ]
  },
  {
   "cell_type": "code",
   "execution_count": 38,
   "id": "95bc38fe",
   "metadata": {
    "execution": {
     "iopub.execute_input": "2023-10-03T18:40:52.344441Z",
     "iopub.status.busy": "2023-10-03T18:40:52.344053Z",
     "iopub.status.idle": "2023-10-03T18:40:52.349617Z",
     "shell.execute_reply": "2023-10-03T18:40:52.348564Z"
    },
    "papermill": {
     "duration": 0.052847,
     "end_time": "2023-10-03T18:40:52.351868",
     "exception": false,
     "start_time": "2023-10-03T18:40:52.299021",
     "status": "completed"
    },
    "tags": []
   },
   "outputs": [],
   "source": [
    "import numpy as np"
   ]
  },
  {
   "cell_type": "code",
   "execution_count": 39,
   "id": "a9aed7aa",
   "metadata": {
    "execution": {
     "iopub.execute_input": "2023-10-03T18:40:52.440320Z",
     "iopub.status.busy": "2023-10-03T18:40:52.439947Z",
     "iopub.status.idle": "2023-10-03T18:40:52.445222Z",
     "shell.execute_reply": "2023-10-03T18:40:52.444225Z"
    },
    "papermill": {
     "duration": 0.05256,
     "end_time": "2023-10-03T18:40:52.447459",
     "exception": false,
     "start_time": "2023-10-03T18:40:52.394899",
     "status": "completed"
    },
    "tags": []
   },
   "outputs": [],
   "source": [
    "y_pred_value = np.where(y_pred>0.5,1,0)"
   ]
  },
  {
   "cell_type": "code",
   "execution_count": 40,
   "id": "2682e1be",
   "metadata": {
    "execution": {
     "iopub.execute_input": "2023-10-03T18:40:52.536168Z",
     "iopub.status.busy": "2023-10-03T18:40:52.535764Z",
     "iopub.status.idle": "2023-10-03T18:40:52.543317Z",
     "shell.execute_reply": "2023-10-03T18:40:52.542164Z"
    },
    "papermill": {
     "duration": 0.054757,
     "end_time": "2023-10-03T18:40:52.545094",
     "exception": false,
     "start_time": "2023-10-03T18:40:52.490337",
     "status": "completed"
    },
    "tags": []
   },
   "outputs": [
    {
     "data": {
      "text/plain": [
       "array([[0],\n",
       "       [1],\n",
       "       [0],\n",
       "       ...,\n",
       "       [0],\n",
       "       [0],\n",
       "       [0]])"
      ]
     },
     "execution_count": 40,
     "metadata": {},
     "output_type": "execute_result"
    }
   ],
   "source": [
    "y_pred_value"
   ]
  },
  {
   "cell_type": "code",
   "execution_count": 41,
   "id": "f5853c01",
   "metadata": {
    "execution": {
     "iopub.execute_input": "2023-10-03T18:40:52.634631Z",
     "iopub.status.busy": "2023-10-03T18:40:52.634270Z",
     "iopub.status.idle": "2023-10-03T18:40:52.639009Z",
     "shell.execute_reply": "2023-10-03T18:40:52.638211Z"
    },
    "papermill": {
     "duration": 0.052043,
     "end_time": "2023-10-03T18:40:52.641223",
     "exception": false,
     "start_time": "2023-10-03T18:40:52.589180",
     "status": "completed"
    },
    "tags": []
   },
   "outputs": [],
   "source": [
    "from sklearn.metrics import accuracy_score"
   ]
  },
  {
   "cell_type": "code",
   "execution_count": 42,
   "id": "c07be69c",
   "metadata": {
    "execution": {
     "iopub.execute_input": "2023-10-03T18:40:52.732100Z",
     "iopub.status.busy": "2023-10-03T18:40:52.730823Z",
     "iopub.status.idle": "2023-10-03T18:40:52.739266Z",
     "shell.execute_reply": "2023-10-03T18:40:52.738043Z"
    },
    "papermill": {
     "duration": 0.055324,
     "end_time": "2023-10-03T18:40:52.741378",
     "exception": false,
     "start_time": "2023-10-03T18:40:52.686054",
     "status": "completed"
    },
    "tags": []
   },
   "outputs": [
    {
     "data": {
      "text/plain": [
       "0.8545"
      ]
     },
     "execution_count": 42,
     "metadata": {},
     "output_type": "execute_result"
    }
   ],
   "source": [
    "accuracy_score(y_test,y_pred_value)"
   ]
  },
  {
   "cell_type": "code",
   "execution_count": 43,
   "id": "52ef54d8",
   "metadata": {
    "execution": {
     "iopub.execute_input": "2023-10-03T18:40:52.830406Z",
     "iopub.status.busy": "2023-10-03T18:40:52.829897Z",
     "iopub.status.idle": "2023-10-03T18:40:52.835302Z",
     "shell.execute_reply": "2023-10-03T18:40:52.834213Z"
    },
    "papermill": {
     "duration": 0.052393,
     "end_time": "2023-10-03T18:40:52.837462",
     "exception": false,
     "start_time": "2023-10-03T18:40:52.785069",
     "status": "completed"
    },
    "tags": []
   },
   "outputs": [],
   "source": [
    "import matplotlib.pyplot as plt"
   ]
  },
  {
   "cell_type": "code",
   "execution_count": 44,
   "id": "978c1cb8",
   "metadata": {
    "execution": {
     "iopub.execute_input": "2023-10-03T18:40:52.924915Z",
     "iopub.status.busy": "2023-10-03T18:40:52.924515Z",
     "iopub.status.idle": "2023-10-03T18:40:53.201293Z",
     "shell.execute_reply": "2023-10-03T18:40:53.199933Z"
    },
    "papermill": {
     "duration": 0.323863,
     "end_time": "2023-10-03T18:40:53.203896",
     "exception": false,
     "start_time": "2023-10-03T18:40:52.880033",
     "status": "completed"
    },
    "tags": []
   },
   "outputs": [
    {
     "data": {
      "text/plain": [
       "[<matplotlib.lines.Line2D at 0x7ee390dc7430>]"
      ]
     },
     "execution_count": 44,
     "metadata": {},
     "output_type": "execute_result"
    },
    {
     "data": {
      "image/png": "[encoded data removed]",
      "text/plain": [
       "<Figure size 640x480 with 1 Axes>"
      ]
     },
     "metadata": {},
     "output_type": "display_data"
    }
   ],
   "source": [
    " plt.plot(history.history['loss'])\n",
    "plt.plot(history.history['val_loss'])"
   ]
  },
  {
   "cell_type": "code",
   "execution_count": 45,
   "id": "dadc1f4d",
   "metadata": {
    "execution": {
     "iopub.execute_input": "2023-10-03T18:40:53.293354Z",
     "iopub.status.busy": "2023-10-03T18:40:53.292945Z",
     "iopub.status.idle": "2023-10-03T18:40:53.542667Z",
     "shell.execute_reply": "2023-10-03T18:40:53.541357Z"
    },
    "papermill": {
     "duration": 0.298163,
     "end_time": "2023-10-03T18:40:53.545036",
     "exception": false,
     "start_time": "2023-10-03T18:40:53.246873",
     "status": "completed"
    },
    "tags": []
   },
   "outputs": [
    {
     "data": {
      "text/plain": [
       "[<matplotlib.lines.Line2D at 0x7ee392fdaaa0>]"
      ]
     },
     "execution_count": 45,
     "metadata": {},
     "output_type": "execute_result"
    },
    {
     "data": {
      "image/png": "[encoded data removed]",
      "text/plain": [
       "<Figure size 640x480 with 1 Axes>"
      ]
     },
     "metadata": {},
     "output_type": "display_data"
    }
   ],
   "source": [
    "plt.plot(history.history['accuracy'])\n",
    "plt.plot(history.history['val_accuracy'])"
   ]
  }
 ],
 "metadata": {
  "kernelspec": {
   "display_name": "Python 3",
   "language": "python",
   "name": "python3"
  },
  "language_info": {
   "codemirror_mode": {
    "name": "ipython",
    "version": 3
   },
   "file_extension": ".py",
   "mimetype": "text/x-python",
   "name": "python",
   "nbconvert_exporter": "python",
   "pygments_lexer": "ipython3",
   "version": "3.10.12"
  },
  "papermill": {
   "default_parameters": {},
   "duration": 48.142489,
   "end_time": "2023-10-03T18:40:55.420100",
   "environment_variables": {},
   "exception": null,
   "input_path": "__notebook__.ipynb",
   "output_path": "__notebook__.ipynb",
   "parameters": {},
   "start_time": "2023-10-03T18:40:07.277611",
   "version": "2.4.0"
  }
 },
 "nbformat": 4,
 "nbformat_minor": 5
}
