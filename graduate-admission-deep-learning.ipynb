{
 "cells": [
  {
   "cell_type": "code",
   "execution_count": 1,
   "id": "4e5adbbc",
   "metadata": {
    "_cell_guid": "b1076dfc-b9ad-4769-8c92-a6c4dae69d19",
    "_uuid": "8f2839f25d086af736a60e9eeb907d3b93b6e0e5",
    "execution": {
     "iopub.execute_input": "2023-10-07T13:16:32.855319Z",
     "iopub.status.busy": "2023-10-07T13:16:32.854529Z",
     "iopub.status.idle": "2023-10-07T13:16:33.315617Z",
     "shell.execute_reply": "2023-10-07T13:16:33.314581Z"
    },
    "papermill": {
     "duration": 0.472201,
     "end_time": "2023-10-07T13:16:33.317762",
     "exception": false,
     "start_time": "2023-10-07T13:16:32.845561",
     "status": "completed"
    },
    "tags": []
   },
   "outputs": [
    {
     "name": "stdout",
     "output_type": "stream",
     "text": [
      "/kaggle/input/graduate-admissions/Admission_Predict.csv\n",
      "/kaggle/input/graduate-admissions/Admission_Predict_Ver1.1.csv\n"
     ]
    }
   ],
   "source": [
    "import numpy as np # linear algebra\n",
    "import pandas as pd # data processing, CSV file I/O (e.g. pd.read_csv)\n",
    "import os\n",
    "for dirname, _, filenames in os.walk('/kaggle/input'):\n",
    "    for filename in filenames:\n",
    "        print(os.path.join(dirname, filename))        "
   ]
  },
  {
   "cell_type": "code",
   "execution_count": 2,
   "id": "d5745fd4",
   "metadata": {
    "execution": {
     "iopub.execute_input": "2023-10-07T13:16:33.333590Z",
     "iopub.status.busy": "2023-10-07T13:16:33.332372Z",
     "iopub.status.idle": "2023-10-07T13:16:33.354577Z",
     "shell.execute_reply": "2023-10-07T13:16:33.353339Z"
    },
    "papermill": {
     "duration": 0.032944,
     "end_time": "2023-10-07T13:16:33.357207",
     "exception": false,
     "start_time": "2023-10-07T13:16:33.324263",
     "status": "completed"
    },
    "tags": []
   },
   "outputs": [],
   "source": [
    "df = pd.read_csv('/kaggle/input/graduate-admissions/Admission_Predict_Ver1.1.csv')"
   ]
  },
  {
   "cell_type": "code",
   "execution_count": 3,
   "id": "aa641241",
   "metadata": {
    "execution": {
     "iopub.execute_input": "2023-10-07T13:16:33.372706Z",
     "iopub.status.busy": "2023-10-07T13:16:33.372327Z",
     "iopub.status.idle": "2023-10-07T13:16:33.516967Z",
     "shell.execute_reply": "2023-10-07T13:16:33.515509Z"
    },
    "papermill": {
     "duration": 0.15531,
     "end_time": "2023-10-07T13:16:33.519356",
     "exception": true,
     "start_time": "2023-10-07T13:16:33.364046",
     "status": "failed"
    },
    "tags": []
   },
   "outputs": [
    {
     "ename": "AttributeError",
     "evalue": "'DataFrame' object has no attribute 'aggregatehead'",
     "output_type": "error",
     "traceback": [
      "\u001b[0;31m---------------------------------------------------------------------------\u001b[0m",
      "\u001b[0;31mAttributeError\u001b[0m                            Traceback (most recent call last)",
      "\u001b[0;32m/tmp/ipykernel_20/2893839799.py\u001b[0m in \u001b[0;36m?\u001b[0;34m()\u001b[0m\n\u001b[0;32m----> 1\u001b[0;31m \u001b[0mdf\u001b[0m\u001b[0;34m.\u001b[0m\u001b[0maggregatehead\u001b[0m\u001b[0;34m(\u001b[0m\u001b[0;34m)\u001b[0m\u001b[0;34m\u001b[0m\u001b[0;34m\u001b[0m\u001b[0m\n\u001b[0m",
      "\u001b[0;32m/opt/conda/lib/python3.10/site-packages/pandas/core/generic.py\u001b[0m in \u001b[0;36m?\u001b[0;34m(self, name)\u001b[0m\n\u001b[1;32m   5985\u001b[0m             \u001b[0;32mand\u001b[0m \u001b[0mname\u001b[0m \u001b[0;32mnot\u001b[0m \u001b[0;32min\u001b[0m \u001b[0mself\u001b[0m\u001b[0;34m.\u001b[0m\u001b[0m_accessors\u001b[0m\u001b[0;34m\u001b[0m\u001b[0;34m\u001b[0m\u001b[0m\n\u001b[1;32m   5986\u001b[0m             \u001b[0;32mand\u001b[0m \u001b[0mself\u001b[0m\u001b[0;34m.\u001b[0m\u001b[0m_info_axis\u001b[0m\u001b[0;34m.\u001b[0m\u001b[0m_can_hold_identifiers_and_holds_name\u001b[0m\u001b[0;34m(\u001b[0m\u001b[0mname\u001b[0m\u001b[0;34m)\u001b[0m\u001b[0;34m\u001b[0m\u001b[0;34m\u001b[0m\u001b[0m\n\u001b[1;32m   5987\u001b[0m         ):\n\u001b[1;32m   5988\u001b[0m             \u001b[0;32mreturn\u001b[0m \u001b[0mself\u001b[0m\u001b[0;34m[\u001b[0m\u001b[0mname\u001b[0m\u001b[0;34m]\u001b[0m\u001b[0;34m\u001b[0m\u001b[0;34m\u001b[0m\u001b[0m\n\u001b[0;32m-> 5989\u001b[0;31m         \u001b[0;32mreturn\u001b[0m \u001b[0mobject\u001b[0m\u001b[0;34m.\u001b[0m\u001b[0m__getattribute__\u001b[0m\u001b[0;34m(\u001b[0m\u001b[0mself\u001b[0m\u001b[0;34m,\u001b[0m \u001b[0mname\u001b[0m\u001b[0;34m)\u001b[0m\u001b[0;34m\u001b[0m\u001b[0;34m\u001b[0m\u001b[0m\n\u001b[0m",
      "\u001b[0;31mAttributeError\u001b[0m: 'DataFrame' object has no attribute 'aggregatehead'"
     ]
    }
   ],
   "source": [
    "df.aggregatehead()"
   ]
  },
  {
   "cell_type": "code",
   "execution_count": null,
   "id": "4b9ca627",
   "metadata": {
    "execution": {
     "iopub.execute_input": "2023-10-04T12:19:15.194955Z",
     "iopub.status.busy": "2023-10-04T12:19:15.194489Z",
     "iopub.status.idle": "2023-10-04T12:19:15.202042Z",
     "shell.execute_reply": "2023-10-04T12:19:15.200993Z",
     "shell.execute_reply.started": "2023-10-04T12:19:15.194927Z"
    },
    "papermill": {
     "duration": null,
     "end_time": null,
     "exception": null,
     "start_time": null,
     "status": "pending"
    },
    "tags": []
   },
   "outputs": [],
   "source": [
    "df.shape"
   ]
  },
  {
   "cell_type": "code",
   "execution_count": null,
   "id": "473dc549",
   "metadata": {
    "execution": {
     "iopub.execute_input": "2023-10-04T12:19:43.065908Z",
     "iopub.status.busy": "2023-10-04T12:19:43.065557Z",
     "iopub.status.idle": "2023-10-04T12:19:43.075261Z",
     "shell.execute_reply": "2023-10-04T12:19:43.074148Z",
     "shell.execute_reply.started": "2023-10-04T12:19:43.065880Z"
    },
    "papermill": {
     "duration": null,
     "end_time": null,
     "exception": null,
     "start_time": null,
     "status": "pending"
    },
    "tags": []
   },
   "outputs": [],
   "source": [
    "df.isna().sum()"
   ]
  },
  {
   "cell_type": "code",
   "execution_count": null,
   "id": "f2ee7072",
   "metadata": {
    "execution": {
     "iopub.execute_input": "2023-10-04T12:20:02.518404Z",
     "iopub.status.busy": "2023-10-04T12:20:02.517908Z",
     "iopub.status.idle": "2023-10-04T12:20:02.535063Z",
     "shell.execute_reply": "2023-10-04T12:20:02.534010Z",
     "shell.execute_reply.started": "2023-10-04T12:20:02.518351Z"
    },
    "papermill": {
     "duration": null,
     "end_time": null,
     "exception": null,
     "start_time": null,
     "status": "pending"
    },
    "tags": []
   },
   "outputs": [],
   "source": [
    "df.duplicated().sum()"
   ]
  },
  {
   "cell_type": "code",
   "execution_count": null,
   "id": "08c25ea6",
   "metadata": {
    "execution": {
     "iopub.execute_input": "2023-10-04T12:20:23.302894Z",
     "iopub.status.busy": "2023-10-04T12:20:23.302477Z",
     "iopub.status.idle": "2023-10-04T12:20:23.310342Z",
     "shell.execute_reply": "2023-10-04T12:20:23.309349Z",
     "shell.execute_reply.started": "2023-10-04T12:20:23.302864Z"
    },
    "papermill": {
     "duration": null,
     "end_time": null,
     "exception": null,
     "start_time": null,
     "status": "pending"
    },
    "tags": []
   },
   "outputs": [],
   "source": [
    "df.columns"
   ]
  },
  {
   "cell_type": "code",
   "execution_count": null,
   "id": "c49be91e",
   "metadata": {
    "execution": {
     "iopub.execute_input": "2023-10-04T12:21:35.803321Z",
     "iopub.status.busy": "2023-10-04T12:21:35.802985Z",
     "iopub.status.idle": "2023-10-04T12:21:35.813230Z",
     "shell.execute_reply": "2023-10-04T12:21:35.811818Z",
     "shell.execute_reply.started": "2023-10-04T12:21:35.803296Z"
    },
    "papermill": {
     "duration": null,
     "end_time": null,
     "exception": null,
     "start_time": null,
     "status": "pending"
    },
    "tags": []
   },
   "outputs": [],
   "source": [
    "df.drop(columns=['Serial No.'],inplace=True)"
   ]
  },
  {
   "cell_type": "code",
   "execution_count": null,
   "id": "67bcd11b",
   "metadata": {
    "execution": {
     "iopub.execute_input": "2023-10-04T12:21:47.094755Z",
     "iopub.status.busy": "2023-10-04T12:21:47.094351Z",
     "iopub.status.idle": "2023-10-04T12:21:47.108638Z",
     "shell.execute_reply": "2023-10-04T12:21:47.107643Z",
     "shell.execute_reply.started": "2023-10-04T12:21:47.094724Z"
    },
    "papermill": {
     "duration": null,
     "end_time": null,
     "exception": null,
     "start_time": null,
     "status": "pending"
    },
    "tags": []
   },
   "outputs": [],
   "source": [
    "df.head()"
   ]
  },
  {
   "cell_type": "code",
   "execution_count": null,
   "id": "8f356bab",
   "metadata": {
    "execution": {
     "iopub.execute_input": "2023-10-04T12:22:47.601667Z",
     "iopub.status.busy": "2023-10-04T12:22:47.601285Z",
     "iopub.status.idle": "2023-10-04T12:22:48.207404Z",
     "shell.execute_reply": "2023-10-04T12:22:48.206482Z",
     "shell.execute_reply.started": "2023-10-04T12:22:47.601635Z"
    },
    "papermill": {
     "duration": null,
     "end_time": null,
     "exception": null,
     "start_time": null,
     "status": "pending"
    },
    "tags": []
   },
   "outputs": [],
   "source": [
    "from sklearn.model_selection import train_test_split"
   ]
  },
  {
   "cell_type": "code",
   "execution_count": null,
   "id": "49a87793",
   "metadata": {
    "execution": {
     "iopub.execute_input": "2023-10-04T12:25:30.375146Z",
     "iopub.status.busy": "2023-10-04T12:25:30.374721Z",
     "iopub.status.idle": "2023-10-04T12:25:30.381268Z",
     "shell.execute_reply": "2023-10-04T12:25:30.379847Z",
     "shell.execute_reply.started": "2023-10-04T12:25:30.375117Z"
    },
    "papermill": {
     "duration": null,
     "end_time": null,
     "exception": null,
     "start_time": null,
     "status": "pending"
    },
    "tags": []
   },
   "outputs": [],
   "source": [
    "x = df.iloc[:,:-1]"
   ]
  },
  {
   "cell_type": "code",
   "execution_count": null,
   "id": "e28c3206",
   "metadata": {
    "execution": {
     "iopub.execute_input": "2023-10-04T12:25:57.099943Z",
     "iopub.status.busy": "2023-10-04T12:25:57.099552Z",
     "iopub.status.idle": "2023-10-04T12:25:57.112894Z",
     "shell.execute_reply": "2023-10-04T12:25:57.111339Z",
     "shell.execute_reply.started": "2023-10-04T12:25:57.099913Z"
    },
    "papermill": {
     "duration": null,
     "end_time": null,
     "exception": null,
     "start_time": null,
     "status": "pending"
    },
    "tags": []
   },
   "outputs": [],
   "source": [
    "x.head(2)"
   ]
  },
  {
   "cell_type": "code",
   "execution_count": null,
   "id": "c2bdf02a",
   "metadata": {
    "execution": {
     "iopub.execute_input": "2023-10-04T12:26:57.446840Z",
     "iopub.status.busy": "2023-10-04T12:26:57.446453Z",
     "iopub.status.idle": "2023-10-04T12:26:57.451856Z",
     "shell.execute_reply": "2023-10-04T12:26:57.450716Z",
     "shell.execute_reply.started": "2023-10-04T12:26:57.446811Z"
    },
    "papermill": {
     "duration": null,
     "end_time": null,
     "exception": null,
     "start_time": null,
     "status": "pending"
    },
    "tags": []
   },
   "outputs": [],
   "source": [
    "y = df.iloc[:,-1]"
   ]
  },
  {
   "cell_type": "code",
   "execution_count": null,
   "id": "bac80a6e",
   "metadata": {
    "execution": {
     "iopub.execute_input": "2023-10-04T12:26:59.618877Z",
     "iopub.status.busy": "2023-10-04T12:26:59.618435Z",
     "iopub.status.idle": "2023-10-04T12:26:59.628230Z",
     "shell.execute_reply": "2023-10-04T12:26:59.626950Z",
     "shell.execute_reply.started": "2023-10-04T12:26:59.618845Z"
    },
    "papermill": {
     "duration": null,
     "end_time": null,
     "exception": null,
     "start_time": null,
     "status": "pending"
    },
    "tags": []
   },
   "outputs": [],
   "source": [
    "y"
   ]
  },
  {
   "cell_type": "code",
   "execution_count": null,
   "id": "f4e07324",
   "metadata": {
    "execution": {
     "iopub.execute_input": "2023-10-04T12:27:08.074558Z",
     "iopub.status.busy": "2023-10-04T12:27:08.074226Z",
     "iopub.status.idle": "2023-10-04T12:27:08.082894Z",
     "shell.execute_reply": "2023-10-04T12:27:08.081824Z",
     "shell.execute_reply.started": "2023-10-04T12:27:08.074534Z"
    },
    "papermill": {
     "duration": null,
     "end_time": null,
     "exception": null,
     "start_time": null,
     "status": "pending"
    },
    "tags": []
   },
   "outputs": [],
   "source": [
    "X_train,X_test,y_train, y_test = train_test_split(x,y,test_size=0.2,random_state=2)"
   ]
  },
  {
   "cell_type": "code",
   "execution_count": null,
   "id": "f459fbeb",
   "metadata": {
    "execution": {
     "iopub.execute_input": "2023-10-04T12:27:58.296784Z",
     "iopub.status.busy": "2023-10-04T12:27:58.296410Z",
     "iopub.status.idle": "2023-10-04T12:27:58.304956Z",
     "shell.execute_reply": "2023-10-04T12:27:58.303669Z",
     "shell.execute_reply.started": "2023-10-04T12:27:58.296741Z"
    },
    "papermill": {
     "duration": null,
     "end_time": null,
     "exception": null,
     "start_time": null,
     "status": "pending"
    },
    "tags": []
   },
   "outputs": [],
   "source": [
    "X_train.shape, X_test.shape"
   ]
  },
  {
   "cell_type": "code",
   "execution_count": null,
   "id": "046623e8",
   "metadata": {
    "execution": {
     "iopub.execute_input": "2023-10-04T12:27:43.180340Z",
     "iopub.status.busy": "2023-10-04T12:27:43.179951Z",
     "iopub.status.idle": "2023-10-04T12:27:43.187358Z",
     "shell.execute_reply": "2023-10-04T12:27:43.185848Z",
     "shell.execute_reply.started": "2023-10-04T12:27:43.180312Z"
    },
    "papermill": {
     "duration": null,
     "end_time": null,
     "exception": null,
     "start_time": null,
     "status": "pending"
    },
    "tags": []
   },
   "outputs": [],
   "source": [
    "y_train.shape"
   ]
  },
  {
   "cell_type": "code",
   "execution_count": null,
   "id": "7d441d2e",
   "metadata": {
    "execution": {
     "iopub.execute_input": "2023-10-04T12:30:11.655160Z",
     "iopub.status.busy": "2023-10-04T12:30:11.654399Z",
     "iopub.status.idle": "2023-10-04T12:30:11.660281Z",
     "shell.execute_reply": "2023-10-04T12:30:11.658974Z",
     "shell.execute_reply.started": "2023-10-04T12:30:11.655123Z"
    },
    "papermill": {
     "duration": null,
     "end_time": null,
     "exception": null,
     "start_time": null,
     "status": "pending"
    },
    "tags": []
   },
   "outputs": [],
   "source": [
    "from sklearn.preprocessing import MinMaxScaler"
   ]
  },
  {
   "cell_type": "code",
   "execution_count": null,
   "id": "11183d18",
   "metadata": {
    "execution": {
     "iopub.execute_input": "2023-10-04T12:33:08.160562Z",
     "iopub.status.busy": "2023-10-04T12:33:08.160209Z",
     "iopub.status.idle": "2023-10-04T12:33:08.166517Z",
     "shell.execute_reply": "2023-10-04T12:33:08.164884Z",
     "shell.execute_reply.started": "2023-10-04T12:33:08.160537Z"
    },
    "papermill": {
     "duration": null,
     "end_time": null,
     "exception": null,
     "start_time": null,
     "status": "pending"
    },
    "tags": []
   },
   "outputs": [],
   "source": [
    "scaler = MinMaxScaler()"
   ]
  },
  {
   "cell_type": "code",
   "execution_count": null,
   "id": "8783f0e7",
   "metadata": {
    "execution": {
     "iopub.execute_input": "2023-10-04T12:33:28.803949Z",
     "iopub.status.busy": "2023-10-04T12:33:28.803567Z",
     "iopub.status.idle": "2023-10-04T12:33:28.816844Z",
     "shell.execute_reply": "2023-10-04T12:33:28.815319Z",
     "shell.execute_reply.started": "2023-10-04T12:33:28.803922Z"
    },
    "papermill": {
     "duration": null,
     "end_time": null,
     "exception": null,
     "start_time": null,
     "status": "pending"
    },
    "tags": []
   },
   "outputs": [],
   "source": [
    "X_train_s = scaler.fit_transform(X_train)\n",
    "X_test_s = scaler.fit_transform(X_test)"
   ]
  },
  {
   "cell_type": "code",
   "execution_count": null,
   "id": "f7767506",
   "metadata": {
    "execution": {
     "iopub.execute_input": "2023-10-04T12:33:15.043286Z",
     "iopub.status.busy": "2023-10-04T12:33:15.042891Z",
     "iopub.status.idle": "2023-10-04T12:33:15.051046Z",
     "shell.execute_reply": "2023-10-04T12:33:15.049886Z",
     "shell.execute_reply.started": "2023-10-04T12:33:15.043258Z"
    },
    "papermill": {
     "duration": null,
     "end_time": null,
     "exception": null,
     "start_time": null,
     "status": "pending"
    },
    "tags": []
   },
   "outputs": [],
   "source": [
    "X_train_s"
   ]
  },
  {
   "cell_type": "code",
   "execution_count": null,
   "id": "96a3adf5",
   "metadata": {
    "execution": {
     "iopub.execute_input": "2023-10-04T12:35:18.960750Z",
     "iopub.status.busy": "2023-10-04T12:35:18.960265Z",
     "iopub.status.idle": "2023-10-04T12:35:18.968362Z",
     "shell.execute_reply": "2023-10-04T12:35:18.966303Z",
     "shell.execute_reply.started": "2023-10-04T12:35:18.960635Z"
    },
    "papermill": {
     "duration": null,
     "end_time": null,
     "exception": null,
     "start_time": null,
     "status": "pending"
    },
    "tags": []
   },
   "outputs": [],
   "source": [
    "import tensorflow\n",
    "from tensorflow import keras\n",
    "from tensorflow.keras import Sequential\n",
    "from tensorflow.keras.layers import Dense\n"
   ]
  },
  {
   "cell_type": "code",
   "execution_count": null,
   "id": "df28ba19",
   "metadata": {
    "execution": {
     "iopub.execute_input": "2023-10-04T13:16:28.085640Z",
     "iopub.status.busy": "2023-10-04T13:16:28.085191Z",
     "iopub.status.idle": "2023-10-04T13:16:28.146522Z",
     "shell.execute_reply": "2023-10-04T13:16:28.145805Z",
     "shell.execute_reply.started": "2023-10-04T13:16:28.085605Z"
    },
    "papermill": {
     "duration": null,
     "end_time": null,
     "exception": null,
     "start_time": null,
     "status": "pending"
    },
    "tags": []
   },
   "outputs": [],
   "source": [
    "model = Sequential()\n",
    "model.add(Dense(7,activation='relu',input_dim=7))\n",
    "model.add(Dense(7,activation='relu'))\n",
    "model.add(Dense(3,activation='relu'))\n",
    "model.add(Dense(1,activation='linear'))"
   ]
  },
  {
   "cell_type": "code",
   "execution_count": null,
   "id": "0804b9e2",
   "metadata": {
    "execution": {
     "iopub.execute_input": "2023-10-04T13:16:30.996570Z",
     "iopub.status.busy": "2023-10-04T13:16:30.996194Z",
     "iopub.status.idle": "2023-10-04T13:16:31.018278Z",
     "shell.execute_reply": "2023-10-04T13:16:31.017416Z",
     "shell.execute_reply.started": "2023-10-04T13:16:30.996538Z"
    },
    "papermill": {
     "duration": null,
     "end_time": null,
     "exception": null,
     "start_time": null,
     "status": "pending"
    },
    "tags": []
   },
   "outputs": [],
   "source": [
    "model.summary()"
   ]
  },
  {
   "cell_type": "code",
   "execution_count": null,
   "id": "6bbb4108",
   "metadata": {
    "execution": {
     "iopub.execute_input": "2023-10-04T13:16:48.588939Z",
     "iopub.status.busy": "2023-10-04T13:16:48.588343Z",
     "iopub.status.idle": "2023-10-04T13:16:48.602709Z",
     "shell.execute_reply": "2023-10-04T13:16:48.601786Z",
     "shell.execute_reply.started": "2023-10-04T13:16:48.588899Z"
    },
    "papermill": {
     "duration": null,
     "end_time": null,
     "exception": null,
     "start_time": null,
     "status": "pending"
    },
    "tags": []
   },
   "outputs": [],
   "source": [
    "model.compile(loss='mean_squared_error',optimizer='Adam',metrics=['accuracy'])"
   ]
  },
  {
   "cell_type": "code",
   "execution_count": null,
   "id": "594decf8",
   "metadata": {
    "execution": {
     "iopub.execute_input": "2023-10-04T13:16:51.054112Z",
     "iopub.status.busy": "2023-10-04T13:16:51.053699Z",
     "iopub.status.idle": "2023-10-04T13:16:53.651025Z",
     "shell.execute_reply": "2023-10-04T13:16:53.649973Z",
     "shell.execute_reply.started": "2023-10-04T13:16:51.054081Z"
    },
    "papermill": {
     "duration": null,
     "end_time": null,
     "exception": null,
     "start_time": null,
     "status": "pending"
    },
    "tags": []
   },
   "outputs": [],
   "source": [
    "history = model.fit(X_train_s,y_train,epochs=30,validation_split=0.2)"
   ]
  },
  {
   "cell_type": "code",
   "execution_count": null,
   "id": "27dbd735",
   "metadata": {
    "execution": {
     "iopub.execute_input": "2023-10-04T13:16:57.880179Z",
     "iopub.status.busy": "2023-10-04T13:16:57.879564Z",
     "iopub.status.idle": "2023-10-04T13:16:57.997444Z",
     "shell.execute_reply": "2023-10-04T13:16:57.996470Z",
     "shell.execute_reply.started": "2023-10-04T13:16:57.880139Z"
    },
    "papermill": {
     "duration": null,
     "end_time": null,
     "exception": null,
     "start_time": null,
     "status": "pending"
    },
    "tags": []
   },
   "outputs": [],
   "source": [
    "y_pred = model.predict(X_test_s)"
   ]
  },
  {
   "cell_type": "code",
   "execution_count": null,
   "id": "aea49200",
   "metadata": {
    "execution": {
     "iopub.execute_input": "2023-10-04T13:17:02.860807Z",
     "iopub.status.busy": "2023-10-04T13:17:02.860445Z",
     "iopub.status.idle": "2023-10-04T13:17:02.865356Z",
     "shell.execute_reply": "2023-10-04T13:17:02.864325Z",
     "shell.execute_reply.started": "2023-10-04T13:17:02.860754Z"
    },
    "papermill": {
     "duration": null,
     "end_time": null,
     "exception": null,
     "start_time": null,
     "status": "pending"
    },
    "tags": []
   },
   "outputs": [],
   "source": [
    "from sklearn.metrics import r2_score"
   ]
  },
  {
   "cell_type": "code",
   "execution_count": null,
   "id": "ce9e4b02",
   "metadata": {
    "execution": {
     "iopub.execute_input": "2023-10-04T13:18:57.083244Z",
     "iopub.status.busy": "2023-10-04T13:18:57.081866Z",
     "iopub.status.idle": "2023-10-04T13:18:57.091179Z",
     "shell.execute_reply": "2023-10-04T13:18:57.089992Z",
     "shell.execute_reply.started": "2023-10-04T13:18:57.083193Z"
    },
    "papermill": {
     "duration": null,
     "end_time": null,
     "exception": null,
     "start_time": null,
     "status": "pending"
    },
    "tags": []
   },
   "outputs": [],
   "source": [
    "r2_score(y_test,y_pred)"
   ]
  },
  {
   "cell_type": "code",
   "execution_count": null,
   "id": "60308c19",
   "metadata": {
    "execution": {
     "iopub.execute_input": "2023-10-04T13:17:08.718825Z",
     "iopub.status.busy": "2023-10-04T13:17:08.718432Z",
     "iopub.status.idle": "2023-10-04T13:17:08.723602Z",
     "shell.execute_reply": "2023-10-04T13:17:08.722479Z",
     "shell.execute_reply.started": "2023-10-04T13:17:08.718795Z"
    },
    "papermill": {
     "duration": null,
     "end_time": null,
     "exception": null,
     "start_time": null,
     "status": "pending"
    },
    "tags": []
   },
   "outputs": [],
   "source": [
    "import matplotlib.pyplot as plt"
   ]
  },
  {
   "cell_type": "code",
   "execution_count": null,
   "id": "083d82c0",
   "metadata": {
    "execution": {
     "iopub.execute_input": "2023-10-04T13:17:12.121272Z",
     "iopub.status.busy": "2023-10-04T13:17:12.120914Z",
     "iopub.status.idle": "2023-10-04T13:17:12.129838Z",
     "shell.execute_reply": "2023-10-04T13:17:12.128621Z",
     "shell.execute_reply.started": "2023-10-04T13:17:12.121230Z"
    },
    "papermill": {
     "duration": null,
     "end_time": null,
     "exception": null,
     "start_time": null,
     "status": "pending"
    },
    "tags": []
   },
   "outputs": [],
   "source": [
    "history.history"
   ]
  },
  {
   "cell_type": "code",
   "execution_count": null,
   "id": "5f02a018",
   "metadata": {
    "execution": {
     "iopub.execute_input": "2023-10-04T13:17:17.479833Z",
     "iopub.status.busy": "2023-10-04T13:17:17.479451Z",
     "iopub.status.idle": "2023-10-04T13:17:17.714310Z",
     "shell.execute_reply": "2023-10-04T13:17:17.713195Z",
     "shell.execute_reply.started": "2023-10-04T13:17:17.479802Z"
    },
    "papermill": {
     "duration": null,
     "end_time": null,
     "exception": null,
     "start_time": null,
     "status": "pending"
    },
    "tags": []
   },
   "outputs": [],
   "source": [
    "plt.plot(history.history['loss'])\n",
    "plt.plot(history.history['val_loss'])"
   ]
  },
  {
   "cell_type": "code",
   "execution_count": null,
   "id": "ddf577b9",
   "metadata": {
    "execution": {
     "iopub.execute_input": "2023-10-04T13:18:42.260922Z",
     "iopub.status.busy": "2023-10-04T13:18:42.260559Z",
     "iopub.status.idle": "2023-10-04T13:18:42.497698Z",
     "shell.execute_reply": "2023-10-04T13:18:42.496442Z",
     "shell.execute_reply.started": "2023-10-04T13:18:42.260893Z"
    },
    "papermill": {
     "duration": null,
     "end_time": null,
     "exception": null,
     "start_time": null,
     "status": "pending"
    },
    "tags": []
   },
   "outputs": [],
   "source": [
    "plt.plot(history.history['accuracy'])\n",
    "plt.plot(history.history['val_accuracy'])"
   ]
  }
 ],
 "metadata": {
  "kernelspec": {
   "display_name": "Python 3",
   "language": "python",
   "name": "python3"
  },
  "language_info": {
   "codemirror_mode": {
    "name": "ipython",
    "version": 3
   },
   "file_extension": ".py",
   "mimetype": "text/x-python",
   "name": "python",
   "nbconvert_exporter": "python",
   "pygments_lexer": "ipython3",
   "version": "3.10.12"
  },
  "papermill": {
   "default_parameters": {},
   "duration": 4.983495,
   "end_time": "2023-10-07T13:16:34.251224",
   "environment_variables": {},
   "exception": true,
   "input_path": "__notebook__.ipynb",
   "output_path": "__notebook__.ipynb",
   "parameters": {},
   "start_time": "2023-10-07T13:16:29.267729",
   "version": "2.4.0"
  }
 },
 "nbformat": 4,
 "nbformat_minor": 5
}
